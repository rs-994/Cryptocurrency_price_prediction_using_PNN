{
 "cells": [
  {
   "cell_type": "markdown",
   "metadata": {},
   "source": [
    "## Cryptocurrency price prediction using Probabilistic neural network"
   ]
  },
  {
   "cell_type": "code",
   "execution_count": 1,
   "metadata": {},
   "outputs": [],
   "source": [
    "# Edit all the Mardown cells below with the appropriate information \n",
    "# Run all cells, containing your code \n",
    "# Save this Jupyter with the outputs of your executed cells\n",
    "#\n",
    "# PS: Save again the notebook with this outcome.\n",
    "# PSPS: Don't forget to include the dataset in your submission"
   ]
  },
  {
   "cell_type": "markdown",
   "metadata": {},
   "source": [
    "\n",
    "**Course:** DAAN 897– Deep Learning (Spring II, 2020)"
   ]
  },
  {
   "cell_type": "markdown",
   "metadata": {},
   "source": [
    "### Problem Statement\n",
    "* This project implements a hybrid LSTM-PNN model and compares it with traditional LSTM model to predict cryptocurrency prices.We have also implemented a Neural Prophet network to study its prediction capability.\n",
    "The cryptocurrency used for this project are : Bitcoin, Ethereum, Cardano.\n",
    "    \n",
    "    \n",
    "    \n",
    "\n",
    "\t"
   ]
  },
  {
   "cell_type": "markdown",
   "metadata": {},
   "source": [
    "### Data Collection\n",
    "* Source(url):https://www.kaggle.com/sudalairajkumar/cryptocurrencypricehistory\n",
    "* Short Description : The Kaggle dataset “Cryptocurrency price history” was utilized for this project.​\n",
    "\n",
    "The dataset has one csv file for each currency. Price history is available daily from April 28, 2013. This dataset has the historical price information of some of the top crypto currencies by market capitalization. ​\n",
    "\n",
    "In this dataset, there are 23 files in total, and each file documents the information such date, price values, volume and market capitalization for each cryptocurrency. We chose to use the Top 3 popular cryptocurrency historical prices, and they are Bitcoin (BTC), Ethereum (ETH), and Cardano (ADA).​\n",
    "\n"
   ]
  },
  {
   "cell_type": "markdown",
   "metadata": {},
   "source": [
    "### Required packages\n",
    "\n",
    "* tensorflow probability\n"
   ]
  },
  {
   "cell_type": "code",
   "execution_count": 2,
   "metadata": {},
   "outputs": [],
   "source": [
    "import numpy as np \n",
    "import pandas as pd \n",
    "from matplotlib import pyplot as plt\n",
    "import tensorflow as tf\n",
    "from tensorflow import keras\n",
    "from sklearn.preprocessing import MinMaxScaler\n",
    "min_max_scaler = MinMaxScaler()\n",
    "import math\n",
    "import datetime as dt\n",
    "import matplotlib.pyplot as plt\n",
    "from sklearn.metrics import mean_squared_error, mean_absolute_error, explained_variance_score, r2_score \n",
    "from sklearn.metrics import mean_poisson_deviance, mean_gamma_deviance, accuracy_score\n",
    "from sklearn.preprocessing import MinMaxScaler\n",
    "from tensorflow.keras.layers import Bidirectional, Dropout, Activation, Dense, LSTM\n",
    "from tensorflow.keras.layers import Bidirectional\n",
    "from tensorflow.keras.layers import LSTM\n",
    "import tensorflow.keras.backend as k\n",
    "from neuralprophet import NeuralProphet\n",
    "import tensorflow_probability as tfp\n",
    "\n",
    "from tensorflow.keras.models import Sequential\n",
    "from itertools import cycle\n",
    "import plotly.graph_objects as go\n",
    "import plotly.express as px\n",
    "from keras.layers.merge import concatenate\n",
    "from keras.utils.vis_utils import plot_model\n",
    "import warnings\n",
    "warnings.filterwarnings('ignore')\n",
    "\n",
    "np.random.seed(42)\n",
    "tf.random.set_seed(42)"
   ]
  },
  {
   "cell_type": "code",
   "execution_count": 3,
   "metadata": {},
   "outputs": [
    {
     "data": {
      "text/html": [
       "<div>\n",
       "<style scoped>\n",
       "    .dataframe tbody tr th:only-of-type {\n",
       "        vertical-align: middle;\n",
       "    }\n",
       "\n",
       "    .dataframe tbody tr th {\n",
       "        vertical-align: top;\n",
       "    }\n",
       "\n",
       "    .dataframe thead th {\n",
       "        text-align: right;\n",
       "    }\n",
       "</style>\n",
       "<table border=\"1\" class=\"dataframe\">\n",
       "  <thead>\n",
       "    <tr style=\"text-align: right;\">\n",
       "      <th></th>\n",
       "      <th>SNo</th>\n",
       "      <th>Name</th>\n",
       "      <th>Symbol</th>\n",
       "      <th>Date</th>\n",
       "      <th>High</th>\n",
       "      <th>Low</th>\n",
       "      <th>Open</th>\n",
       "      <th>Close</th>\n",
       "      <th>Volume</th>\n",
       "      <th>Marketcap</th>\n",
       "    </tr>\n",
       "  </thead>\n",
       "  <tbody>\n",
       "    <tr>\n",
       "      <th>0</th>\n",
       "      <td>1</td>\n",
       "      <td>Bitcoin</td>\n",
       "      <td>BTC</td>\n",
       "      <td>2013-04-29 23:59:59</td>\n",
       "      <td>147.488007</td>\n",
       "      <td>134.000000</td>\n",
       "      <td>134.444000</td>\n",
       "      <td>144.539993</td>\n",
       "      <td>0.0</td>\n",
       "      <td>1.603769e+09</td>\n",
       "    </tr>\n",
       "    <tr>\n",
       "      <th>1</th>\n",
       "      <td>2</td>\n",
       "      <td>Bitcoin</td>\n",
       "      <td>BTC</td>\n",
       "      <td>2013-04-30 23:59:59</td>\n",
       "      <td>146.929993</td>\n",
       "      <td>134.050003</td>\n",
       "      <td>144.000000</td>\n",
       "      <td>139.000000</td>\n",
       "      <td>0.0</td>\n",
       "      <td>1.542813e+09</td>\n",
       "    </tr>\n",
       "    <tr>\n",
       "      <th>2</th>\n",
       "      <td>3</td>\n",
       "      <td>Bitcoin</td>\n",
       "      <td>BTC</td>\n",
       "      <td>2013-05-01 23:59:59</td>\n",
       "      <td>139.889999</td>\n",
       "      <td>107.720001</td>\n",
       "      <td>139.000000</td>\n",
       "      <td>116.989998</td>\n",
       "      <td>0.0</td>\n",
       "      <td>1.298955e+09</td>\n",
       "    </tr>\n",
       "    <tr>\n",
       "      <th>3</th>\n",
       "      <td>4</td>\n",
       "      <td>Bitcoin</td>\n",
       "      <td>BTC</td>\n",
       "      <td>2013-05-02 23:59:59</td>\n",
       "      <td>125.599998</td>\n",
       "      <td>92.281898</td>\n",
       "      <td>116.379997</td>\n",
       "      <td>105.209999</td>\n",
       "      <td>0.0</td>\n",
       "      <td>1.168517e+09</td>\n",
       "    </tr>\n",
       "    <tr>\n",
       "      <th>4</th>\n",
       "      <td>5</td>\n",
       "      <td>Bitcoin</td>\n",
       "      <td>BTC</td>\n",
       "      <td>2013-05-03 23:59:59</td>\n",
       "      <td>108.127998</td>\n",
       "      <td>79.099998</td>\n",
       "      <td>106.250000</td>\n",
       "      <td>97.750000</td>\n",
       "      <td>0.0</td>\n",
       "      <td>1.085995e+09</td>\n",
       "    </tr>\n",
       "  </tbody>\n",
       "</table>\n",
       "</div>"
      ],
      "text/plain": [
       "   SNo     Name Symbol                Date        High         Low  \\\n",
       "0    1  Bitcoin    BTC 2013-04-29 23:59:59  147.488007  134.000000   \n",
       "1    2  Bitcoin    BTC 2013-04-30 23:59:59  146.929993  134.050003   \n",
       "2    3  Bitcoin    BTC 2013-05-01 23:59:59  139.889999  107.720001   \n",
       "3    4  Bitcoin    BTC 2013-05-02 23:59:59  125.599998   92.281898   \n",
       "4    5  Bitcoin    BTC 2013-05-03 23:59:59  108.127998   79.099998   \n",
       "\n",
       "         Open       Close  Volume     Marketcap  \n",
       "0  134.444000  144.539993     0.0  1.603769e+09  \n",
       "1  144.000000  139.000000     0.0  1.542813e+09  \n",
       "2  139.000000  116.989998     0.0  1.298955e+09  \n",
       "3  116.379997  105.209999     0.0  1.168517e+09  \n",
       "4  106.250000   97.750000     0.0  1.085995e+09  "
      ]
     },
     "execution_count": 3,
     "metadata": {},
     "output_type": "execute_result"
    }
   ],
   "source": [
    "df = pd.read_csv(\"./coin_Bitcoin.csv\", parse_dates=['Date'])\n",
    "df.head()"
   ]
  },
  {
   "cell_type": "code",
   "execution_count": 4,
   "metadata": {
    "scrolled": true
   },
   "outputs": [
    {
     "data": {
      "text/plain": [
       "Text(0, 0.5, 'Close Price (USD)')"
      ]
     },
     "execution_count": 4,
     "metadata": {},
     "output_type": "execute_result"
    },
    {
     "data": {
      "image/png": "[encoded data removed]",
      "text/plain": [
       "<Figure size 432x288 with 1 Axes>"
      ]
     },
     "metadata": {
      "needs_background": "light"
     },
     "output_type": "display_data"
    }
   ],
   "source": [
    "df.shape\n",
    "df = df.sort_values('Date')\n",
    "ax = df.plot(x='Date', y='Close');\n",
    "ax.set_xlabel(\"Date\")\n",
    "ax.set_ylabel(\"Close Price (USD)\")"
   ]
  },
  {
   "cell_type": "code",
   "execution_count": 5,
   "metadata": {},
   "outputs": [
    {
     "data": {
      "text/html": [
       "<div>\n",
       "<style scoped>\n",
       "    .dataframe tbody tr th:only-of-type {\n",
       "        vertical-align: middle;\n",
       "    }\n",
       "\n",
       "    .dataframe tbody tr th {\n",
       "        vertical-align: top;\n",
       "    }\n",
       "\n",
       "    .dataframe thead th {\n",
       "        text-align: right;\n",
       "    }\n",
       "</style>\n",
       "<table border=\"1\" class=\"dataframe\">\n",
       "  <thead>\n",
       "    <tr style=\"text-align: right;\">\n",
       "      <th></th>\n",
       "      <th>SNo</th>\n",
       "      <th>High</th>\n",
       "      <th>Low</th>\n",
       "      <th>Open</th>\n",
       "      <th>Close</th>\n",
       "      <th>Volume</th>\n",
       "      <th>Marketcap</th>\n",
       "    </tr>\n",
       "  </thead>\n",
       "  <tbody>\n",
       "    <tr>\n",
       "      <th>count</th>\n",
       "      <td>2991.000000</td>\n",
       "      <td>2991.000000</td>\n",
       "      <td>2991.000000</td>\n",
       "      <td>2991.000000</td>\n",
       "      <td>2991.000000</td>\n",
       "      <td>2.991000e+03</td>\n",
       "      <td>2.991000e+03</td>\n",
       "    </tr>\n",
       "    <tr>\n",
       "      <th>mean</th>\n",
       "      <td>1496.000000</td>\n",
       "      <td>6893.326038</td>\n",
       "      <td>6486.009539</td>\n",
       "      <td>6700.146240</td>\n",
       "      <td>6711.290443</td>\n",
       "      <td>1.090633e+10</td>\n",
       "      <td>1.208761e+11</td>\n",
       "    </tr>\n",
       "    <tr>\n",
       "      <th>std</th>\n",
       "      <td>863.571653</td>\n",
       "      <td>11642.832456</td>\n",
       "      <td>10869.032130</td>\n",
       "      <td>11288.043736</td>\n",
       "      <td>11298.141921</td>\n",
       "      <td>1.888895e+10</td>\n",
       "      <td>2.109438e+11</td>\n",
       "    </tr>\n",
       "    <tr>\n",
       "      <th>min</th>\n",
       "      <td>1.000000</td>\n",
       "      <td>74.561096</td>\n",
       "      <td>65.526001</td>\n",
       "      <td>68.504997</td>\n",
       "      <td>68.431000</td>\n",
       "      <td>0.000000e+00</td>\n",
       "      <td>7.784112e+08</td>\n",
       "    </tr>\n",
       "    <tr>\n",
       "      <th>25%</th>\n",
       "      <td>748.500000</td>\n",
       "      <td>436.179001</td>\n",
       "      <td>422.879486</td>\n",
       "      <td>430.445496</td>\n",
       "      <td>430.569489</td>\n",
       "      <td>3.036725e+07</td>\n",
       "      <td>6.305579e+09</td>\n",
       "    </tr>\n",
       "    <tr>\n",
       "      <th>50%</th>\n",
       "      <td>1496.000000</td>\n",
       "      <td>2387.610107</td>\n",
       "      <td>2178.500000</td>\n",
       "      <td>2269.889893</td>\n",
       "      <td>2286.409912</td>\n",
       "      <td>9.460360e+08</td>\n",
       "      <td>3.741503e+10</td>\n",
       "    </tr>\n",
       "    <tr>\n",
       "      <th>75%</th>\n",
       "      <td>2243.500000</td>\n",
       "      <td>8733.926948</td>\n",
       "      <td>8289.800459</td>\n",
       "      <td>8569.656494</td>\n",
       "      <td>8576.238715</td>\n",
       "      <td>1.592015e+10</td>\n",
       "      <td>1.499957e+11</td>\n",
       "    </tr>\n",
       "    <tr>\n",
       "      <th>max</th>\n",
       "      <td>2991.000000</td>\n",
       "      <td>64863.098908</td>\n",
       "      <td>62208.964366</td>\n",
       "      <td>63523.754869</td>\n",
       "      <td>63503.457930</td>\n",
       "      <td>3.509679e+11</td>\n",
       "      <td>1.186364e+12</td>\n",
       "    </tr>\n",
       "  </tbody>\n",
       "</table>\n",
       "</div>"
      ],
      "text/plain": [
       "               SNo          High           Low          Open         Close  \\\n",
       "count  2991.000000   2991.000000   2991.000000   2991.000000   2991.000000   \n",
       "mean   1496.000000   6893.326038   6486.009539   6700.146240   6711.290443   \n",
       "std     863.571653  11642.832456  10869.032130  11288.043736  11298.141921   \n",
       "min       1.000000     74.561096     65.526001     68.504997     68.431000   \n",
       "25%     748.500000    436.179001    422.879486    430.445496    430.569489   \n",
       "50%    1496.000000   2387.610107   2178.500000   2269.889893   2286.409912   \n",
       "75%    2243.500000   8733.926948   8289.800459   8569.656494   8576.238715   \n",
       "max    2991.000000  64863.098908  62208.964366  63523.754869  63503.457930   \n",
       "\n",
       "             Volume     Marketcap  \n",
       "count  2.991000e+03  2.991000e+03  \n",
       "mean   1.090633e+10  1.208761e+11  \n",
       "std    1.888895e+10  2.109438e+11  \n",
       "min    0.000000e+00  7.784112e+08  \n",
       "25%    3.036725e+07  6.305579e+09  \n",
       "50%    9.460360e+08  3.741503e+10  \n",
       "75%    1.592015e+10  1.499957e+11  \n",
       "max    3.509679e+11  1.186364e+12  "
      ]
     },
     "execution_count": 5,
     "metadata": {},
     "output_type": "execute_result"
    }
   ],
   "source": [
    "df.describe()"
   ]
  },
  {
   "cell_type": "markdown",
   "metadata": {},
   "source": [
    "# Data Preprocessing\n",
    "\n",
    "* 1. Normalisation"
   ]
  },
  {
   "cell_type": "code",
   "execution_count": 6,
   "metadata": {},
   "outputs": [
    {
     "data": {
      "text/plain": [
       "(2991, 1)"
      ]
     },
     "execution_count": 6,
     "metadata": {},
     "output_type": "execute_result"
    }
   ],
   "source": [
    "scaler = MinMaxScaler()\n",
    "close_price = df.Close.values.reshape(-1, 1)\n",
    "scaled_close = scaler.fit_transform(close_price)\n",
    "scaled_close.shape"
   ]
  },
  {
   "cell_type": "markdown",
   "metadata": {},
   "source": [
    "2. Remove NaN values if any"
   ]
  },
  {
   "cell_type": "code",
   "execution_count": 7,
   "metadata": {},
   "outputs": [
    {
     "data": {
      "text/plain": [
       "False"
      ]
     },
     "execution_count": 7,
     "metadata": {},
     "output_type": "execute_result"
    }
   ],
   "source": [
    "np.isnan(scaled_close).any()\n"
   ]
  },
  {
   "cell_type": "code",
   "execution_count": 8,
   "metadata": {},
   "outputs": [
    {
     "data": {
      "text/plain": [
       "False"
      ]
     },
     "execution_count": 8,
     "metadata": {},
     "output_type": "execute_result"
    }
   ],
   "source": [
    "scaled_close = scaled_close[~np.isnan(scaled_close)]\n",
    "scaled_close = scaled_close.reshape(-1, 1)\n",
    "np.isnan(scaled_close).any()"
   ]
  },
  {
   "cell_type": "code",
   "execution_count": 9,
   "metadata": {},
   "outputs": [],
   "source": [
    "SEQ_LEN = 100\n",
    "\n",
    "def to_sequences(data, seq_len):\n",
    "    d = []\n",
    "\n",
    "    for index in range(len(data) - seq_len):\n",
    "        d.append(data[index: index + seq_len])\n",
    "\n",
    "    return np.array(d)\n",
    "\n",
    "def preprocess(data_raw, seq_len, train_split):\n",
    "\n",
    "    data = to_sequences(data_raw, seq_len)\n",
    "\n",
    "    num_train = int(train_split * data.shape[0])\n",
    "\n",
    "    X_train = data[:num_train, :-1, :]\n",
    "    y_train = data[:num_train, -1, :]\n",
    "\n",
    "    X_test = data[num_train:, :-1, :]\n",
    "    y_test = data[num_train:, -1, :]\n",
    "\n",
    "    return X_train, y_train, X_test, y_test\n",
    "\n",
    "\n",
    "X_train, y_train, X_test, y_test = preprocess(scaled_close, SEQ_LEN, train_split = 0.90)"
   ]
  },
  {
   "cell_type": "code",
   "execution_count": 10,
   "metadata": {},
   "outputs": [
    {
     "data": {
      "text/plain": [
       "(290, 99, 1)"
      ]
     },
     "execution_count": 10,
     "metadata": {},
     "output_type": "execute_result"
    }
   ],
   "source": [
    "X_test.shape"
   ]
  },
  {
   "cell_type": "markdown",
   "metadata": {},
   "source": [
    "# Methodology\n",
    "\n",
    "1. We have 3 models in total to predict cryptocurrency prices.\n",
    "     1.A baseline LSTM model.\n",
    "     2.A hybrid model that combines LSTM and PNN.\n",
    "     3.Finally,  Neural Prophet model.\n",
    "\n",
    "\n",
    "2. Introduce the Deep Neural Networks you used in your project\n",
    " * Baseline model\n",
    "    * A 3-layer LSTM Recurrent Neural Network was created on the normalized data. The network was made bidirectional in order to train on the sequence data in forward and backward (reversed) direction.The output layer has a single neuron and ‘Linear’ activation function was used.\n",
    " \n",
    " * Hybrid model LSTM PNN\n",
    "    * The output from the last LSTM layer of the baseline model goes to 2 different layers:\n",
    "    1.A keras dense layer with 16 neurons\n",
    "    2.A tensorflow probability layer that fits the inputs to a normal distribution\n",
    "    3.These two layers are then merged into a single dense layer.\n",
    "    4.The output layer has a single neuron and ‘Linear’ activation function was used.\n",
    "    5.A custom loss function was used to assess the model.\n",
    "  \n",
    " * Neural Prophet Model\n",
    "     * Description \n",
    " "
   ]
  },
  {
   "cell_type": "markdown",
   "metadata": {},
   "source": [
    "# Baseline LSTM Model for 3 different cryptocurrencies"
   ]
  },
  {
   "cell_type": "code",
   "execution_count": 11,
   "metadata": {},
   "outputs": [],
   "source": [
    "DROPOUT = 0.2\n",
    "WINDOW_SIZE = SEQ_LEN - 1\n",
    "\n",
    "model = keras.Sequential()\n",
    "\n",
    "model.add(Bidirectional(LSTM(WINDOW_SIZE, return_sequences=True),  input_shape=(WINDOW_SIZE, X_train.shape[-1])))\n",
    "model.add(Dropout(rate=DROPOUT))\n",
    "\n",
    "model.add(Bidirectional(LSTM((WINDOW_SIZE * 2), return_sequences=True)))\n",
    "model.add(Dropout(rate=DROPOUT))\n",
    "\n",
    "model.add(Bidirectional(LSTM(WINDOW_SIZE, return_sequences=False)))\n",
    "\n",
    "model.add(Dense(units=1))\n",
    "\n",
    "model.add(Activation('linear'))"
   ]
  },
  {
   "cell_type": "code",
   "execution_count": 12,
   "metadata": {},
   "outputs": [
    {
     "data": {
      "image/png": "[encoded data removed]",
      "text/plain": [
       "<IPython.core.display.Image object>"
      ]
     },
     "execution_count": 12,
     "metadata": {},
     "output_type": "execute_result"
    }
   ],
   "source": [
    "model.compile(\n",
    "    loss = 'MSE',\n",
    "    optimizer='adam'\n",
    ")\n",
    "\n",
    "plot_model(model, to_file='model_plot.png', show_shapes=False, show_dtype=False, show_layer_names=False)"
   ]
  },
  {
   "cell_type": "markdown",
   "metadata": {},
   "source": [
    "## Model Fitting and Validation\n",
    "\n",
    "1. Baseline \n",
    "    - decription \n",
    "2. Hybrid Model\n",
    "    - decription "
   ]
  },
  {
   "cell_type": "code",
   "execution_count": 13,
   "metadata": {
    "scrolled": false
   },
   "outputs": [
    {
     "name": "stdout",
     "output_type": "stream",
     "text": [
      "Epoch 1/50\n",
      "37/37 [==============================] - 13s 109ms/step - loss: 0.0020 - val_loss: 3.9849e-04\n",
      "Epoch 2/50\n",
      "37/37 [==============================] - 2s 59ms/step - loss: 0.0026 - val_loss: 0.0010\n",
      "Epoch 3/50\n",
      "37/37 [==============================] - 2s 62ms/step - loss: 4.0314e-04 - val_loss: 3.5813e-04\n",
      "Epoch 4/50\n",
      "37/37 [==============================] - 2s 59ms/step - loss: 9.1950e-05 - val_loss: 1.0585e-04\n",
      "Epoch 5/50\n",
      "37/37 [==============================] - 2s 61ms/step - loss: 1.6397e-04 - val_loss: 9.8089e-05\n",
      "Epoch 6/50\n",
      "37/37 [==============================] - 2s 58ms/step - loss: 1.6127e-04 - val_loss: 1.4848e-04\n",
      "Epoch 7/50\n",
      "37/37 [==============================] - 2s 58ms/step - loss: 3.1414e-04 - val_loss: 9.0675e-05\n",
      "Epoch 8/50\n",
      "37/37 [==============================] - 2s 58ms/step - loss: 2.1234e-04 - val_loss: 2.6928e-04\n",
      "Epoch 9/50\n",
      "37/37 [==============================] - 2s 58ms/step - loss: 5.2871e-04 - val_loss: 3.3355e-04\n",
      "Epoch 10/50\n",
      "37/37 [==============================] - 2s 63ms/step - loss: 1.8913e-04 - val_loss: 3.7842e-04\n",
      "Epoch 11/50\n",
      "37/37 [==============================] - 2s 58ms/step - loss: 1.2725e-04 - val_loss: 3.5804e-04\n",
      "Epoch 12/50\n",
      "37/37 [==============================] - 2s 59ms/step - loss: 2.2862e-04 - val_loss: 5.9639e-04\n",
      "Epoch 13/50\n",
      "37/37 [==============================] - 2s 59ms/step - loss: 2.7705e-04 - val_loss: 8.7431e-04\n",
      "Epoch 14/50\n",
      "37/37 [==============================] - 2s 57ms/step - loss: 5.0734e-04 - val_loss: 5.0464e-04\n",
      "Epoch 15/50\n",
      "37/37 [==============================] - 2s 56ms/step - loss: 2.6041e-04 - val_loss: 2.0097e-04\n",
      "Epoch 16/50\n",
      "37/37 [==============================] - 2s 56ms/step - loss: 4.7346e-04 - val_loss: 2.6717e-04\n",
      "Epoch 17/50\n",
      "37/37 [==============================] - 2s 56ms/step - loss: 1.1105e-04 - val_loss: 1.9220e-04\n",
      "Epoch 18/50\n",
      "37/37 [==============================] - 2s 56ms/step - loss: 2.4451e-04 - val_loss: 4.4843e-04\n",
      "Epoch 19/50\n",
      "37/37 [==============================] - 2s 55ms/step - loss: 5.4476e-04 - val_loss: 3.7737e-04\n",
      "Epoch 20/50\n",
      "37/37 [==============================] - 2s 55ms/step - loss: 7.8632e-04 - val_loss: 1.4132e-04\n",
      "Epoch 21/50\n",
      "37/37 [==============================] - 2s 56ms/step - loss: 0.0015 - val_loss: 3.7718e-04\n",
      "Epoch 22/50\n",
      "37/37 [==============================] - 2s 56ms/step - loss: 0.0018 - val_loss: 0.0013\n",
      "Epoch 23/50\n",
      "37/37 [==============================] - 2s 55ms/step - loss: 8.0144e-04 - val_loss: 2.4542e-04\n",
      "Epoch 24/50\n",
      "37/37 [==============================] - 2s 55ms/step - loss: 8.1603e-04 - val_loss: 1.2965e-04\n",
      "Epoch 25/50\n",
      "37/37 [==============================] - 2s 56ms/step - loss: 7.4489e-04 - val_loss: 1.6989e-04\n",
      "Epoch 26/50\n",
      "37/37 [==============================] - 2s 55ms/step - loss: 5.5579e-04 - val_loss: 5.7239e-05\n",
      "Epoch 27/50\n",
      "37/37 [==============================] - 2s 55ms/step - loss: 3.4009e-04 - val_loss: 1.0771e-04\n",
      "Epoch 28/50\n",
      "37/37 [==============================] - 2s 56ms/step - loss: 2.5114e-04 - val_loss: 1.5596e-04\n",
      "Epoch 29/50\n",
      "37/37 [==============================] - 2s 56ms/step - loss: 1.6933e-04 - val_loss: 8.8703e-05\n",
      "Epoch 30/50\n",
      "37/37 [==============================] - 2s 56ms/step - loss: 1.0316e-04 - val_loss: 7.1675e-05\n",
      "Epoch 31/50\n",
      "37/37 [==============================] - 2s 60ms/step - loss: 9.2644e-05 - val_loss: 6.1561e-05\n",
      "Epoch 32/50\n",
      "37/37 [==============================] - 2s 59ms/step - loss: 9.2260e-05 - val_loss: 6.2552e-05\n",
      "Epoch 33/50\n",
      "37/37 [==============================] - 2s 58ms/step - loss: 9.1833e-05 - val_loss: 5.8400e-05\n",
      "Epoch 34/50\n",
      "37/37 [==============================] - 2s 55ms/step - loss: 1.0428e-04 - val_loss: 5.6911e-05\n",
      "Epoch 35/50\n",
      "37/37 [==============================] - 2s 55ms/step - loss: 1.2529e-04 - val_loss: 5.9940e-05\n",
      "Epoch 36/50\n",
      "37/37 [==============================] - 2s 56ms/step - loss: 1.4606e-04 - val_loss: 6.8455e-05\n",
      "Epoch 37/50\n",
      "37/37 [==============================] - 2s 55ms/step - loss: 1.6564e-04 - val_loss: 6.7740e-05\n",
      "Epoch 38/50\n",
      "37/37 [==============================] - 2s 56ms/step - loss: 1.7947e-04 - val_loss: 7.6700e-05\n",
      "Epoch 39/50\n",
      "37/37 [==============================] - 2s 55ms/step - loss: 1.9171e-04 - val_loss: 7.2787e-05\n",
      "Epoch 40/50\n",
      "37/37 [==============================] - 2s 55ms/step - loss: 2.0221e-04 - val_loss: 8.0365e-05\n",
      "Epoch 41/50\n",
      "37/37 [==============================] - 2s 55ms/step - loss: 2.0972e-04 - val_loss: 8.2500e-05\n",
      "Epoch 42/50\n",
      "37/37 [==============================] - 2s 57ms/step - loss: 2.0919e-04 - val_loss: 8.3676e-05\n",
      "Epoch 43/50\n",
      "37/37 [==============================] - 2s 56ms/step - loss: 1.9693e-04 - val_loss: 8.5642e-05\n",
      "Epoch 44/50\n",
      "37/37 [==============================] - 2s 55ms/step - loss: 1.8950e-04 - val_loss: 7.9534e-05\n",
      "Epoch 45/50\n",
      "37/37 [==============================] - 2s 55ms/step - loss: 1.8472e-04 - val_loss: 8.2621e-05\n",
      "Epoch 46/50\n",
      "37/37 [==============================] - 2s 55ms/step - loss: 1.7143e-04 - val_loss: 8.0664e-05\n",
      "Epoch 47/50\n",
      "37/37 [==============================] - 2s 55ms/step - loss: 1.6221e-04 - val_loss: 7.4646e-05\n",
      "Epoch 48/50\n",
      "37/37 [==============================] - 2s 55ms/step - loss: 1.5854e-04 - val_loss: 7.6934e-05\n",
      "Epoch 49/50\n",
      "37/37 [==============================] - 2s 55ms/step - loss: 1.4964e-04 - val_loss: 6.7353e-05\n",
      "Epoch 50/50\n",
      "37/37 [==============================] - 2s 55ms/step - loss: 1.5823e-04 - val_loss: 6.8949e-05\n"
     ]
    }
   ],
   "source": [
    "BATCH_SIZE = 64\n",
    "\n",
    "history = model.fit(\n",
    "    X_train, \n",
    "    y_train, \n",
    "    epochs=50, \n",
    "    batch_size=BATCH_SIZE, \n",
    "    shuffle=False,\n",
    "    validation_split=0.1,   \n",
    ")"
   ]
  },
  {
   "cell_type": "markdown",
   "metadata": {},
   "source": [
    "### Model Evaluation \n",
    "\n",
    "* Examine your models (coefficients, parameters, errors, etc...)\n",
    "\n",
    "* Compute and interpret your results in terms of accuracy, precision, recall, ROC etc. "
   ]
  },
  {
   "cell_type": "code",
   "execution_count": 14,
   "metadata": {},
   "outputs": [
    {
     "name": "stdout",
     "output_type": "stream",
     "text": [
      "10/10 [==============================] - 0s 19ms/step - loss: 0.0420\n"
     ]
    },
    {
     "data": {
      "text/plain": [
       "0.04202243685722351"
      ]
     },
     "execution_count": 14,
     "metadata": {},
     "output_type": "execute_result"
    }
   ],
   "source": [
    "model.evaluate(X_test, y_test)"
   ]
  },
  {
   "cell_type": "code",
   "execution_count": 15,
   "metadata": {},
   "outputs": [
    {
     "data": {
      "image/png": "[encoded data removed]",
      "text/plain": [
       "<Figure size 432x288 with 1 Axes>"
      ]
     },
     "metadata": {
      "needs_background": "light"
     },
     "output_type": "display_data"
    }
   ],
   "source": [
    "plt.plot(history.history['loss'])\n",
    "plt.plot(history.history['val_loss'])\n",
    "plt.title('model loss')\n",
    "plt.ylabel('loss')\n",
    "plt.xlabel('epoch')\n",
    "plt.legend(['train', 'test'], loc='upper left')\n",
    "plt.show()"
   ]
  },
  {
   "cell_type": "code",
   "execution_count": 16,
   "metadata": {},
   "outputs": [
    {
     "data": {
      "image/png": "[encoded data removed]",
      "text/plain": [
       "<Figure size 432x288 with 1 Axes>"
      ]
     },
     "metadata": {
      "needs_background": "light"
     },
     "output_type": "display_data"
    }
   ],
   "source": [
    "y_hat = model.predict(X_test)\n",
    "\n",
    "y_test_inverse = scaler.inverse_transform(y_test)\n",
    "y_hat_inverse = scaler.inverse_transform(y_hat)\n",
    " \n",
    "plt.plot(y_test_inverse, label=\"Actual Price\", color='green')\n",
    "plt.plot(y_hat_inverse, label=\"Predicted Price\", color='red')\n",
    " \n",
    "plt.title('Bitcoin price prediction')\n",
    "plt.xlabel('Time [days]')\n",
    "plt.ylabel('Price')\n",
    "plt.legend(loc='best')\n",
    " \n",
    "plt.show();"
   ]
  },
  {
   "cell_type": "markdown",
   "metadata": {},
   "source": [
    "### Ethereum"
   ]
  },
  {
   "cell_type": "code",
   "execution_count": 17,
   "metadata": {},
   "outputs": [
    {
     "data": {
      "text/html": [
       "<div>\n",
       "<style scoped>\n",
       "    .dataframe tbody tr th:only-of-type {\n",
       "        vertical-align: middle;\n",
       "    }\n",
       "\n",
       "    .dataframe tbody tr th {\n",
       "        vertical-align: top;\n",
       "    }\n",
       "\n",
       "    .dataframe thead th {\n",
       "        text-align: right;\n",
       "    }\n",
       "</style>\n",
       "<table border=\"1\" class=\"dataframe\">\n",
       "  <thead>\n",
       "    <tr style=\"text-align: right;\">\n",
       "      <th></th>\n",
       "      <th>SNo</th>\n",
       "      <th>Name</th>\n",
       "      <th>Symbol</th>\n",
       "      <th>Date</th>\n",
       "      <th>High</th>\n",
       "      <th>Low</th>\n",
       "      <th>Open</th>\n",
       "      <th>Close</th>\n",
       "      <th>Volume</th>\n",
       "      <th>Marketcap</th>\n",
       "    </tr>\n",
       "  </thead>\n",
       "  <tbody>\n",
       "    <tr>\n",
       "      <th>0</th>\n",
       "      <td>1</td>\n",
       "      <td>Ethereum</td>\n",
       "      <td>ETH</td>\n",
       "      <td>2015-08-08 23:59:59</td>\n",
       "      <td>2.798810</td>\n",
       "      <td>0.714725</td>\n",
       "      <td>2.793760</td>\n",
       "      <td>0.753325</td>\n",
       "      <td>674188.0</td>\n",
       "      <td>4.548689e+07</td>\n",
       "    </tr>\n",
       "    <tr>\n",
       "      <th>1</th>\n",
       "      <td>2</td>\n",
       "      <td>Ethereum</td>\n",
       "      <td>ETH</td>\n",
       "      <td>2015-08-09 23:59:59</td>\n",
       "      <td>0.879810</td>\n",
       "      <td>0.629191</td>\n",
       "      <td>0.706136</td>\n",
       "      <td>0.701897</td>\n",
       "      <td>532170.0</td>\n",
       "      <td>4.239957e+07</td>\n",
       "    </tr>\n",
       "    <tr>\n",
       "      <th>2</th>\n",
       "      <td>3</td>\n",
       "      <td>Ethereum</td>\n",
       "      <td>ETH</td>\n",
       "      <td>2015-08-10 23:59:59</td>\n",
       "      <td>0.729854</td>\n",
       "      <td>0.636546</td>\n",
       "      <td>0.713989</td>\n",
       "      <td>0.708448</td>\n",
       "      <td>405283.0</td>\n",
       "      <td>4.281836e+07</td>\n",
       "    </tr>\n",
       "    <tr>\n",
       "      <th>3</th>\n",
       "      <td>4</td>\n",
       "      <td>Ethereum</td>\n",
       "      <td>ETH</td>\n",
       "      <td>2015-08-11 23:59:59</td>\n",
       "      <td>1.131410</td>\n",
       "      <td>0.663235</td>\n",
       "      <td>0.708087</td>\n",
       "      <td>1.067860</td>\n",
       "      <td>1463100.0</td>\n",
       "      <td>6.456929e+07</td>\n",
       "    </tr>\n",
       "    <tr>\n",
       "      <th>4</th>\n",
       "      <td>5</td>\n",
       "      <td>Ethereum</td>\n",
       "      <td>ETH</td>\n",
       "      <td>2015-08-12 23:59:59</td>\n",
       "      <td>1.289940</td>\n",
       "      <td>0.883608</td>\n",
       "      <td>1.058750</td>\n",
       "      <td>1.217440</td>\n",
       "      <td>2150620.0</td>\n",
       "      <td>7.364501e+07</td>\n",
       "    </tr>\n",
       "  </tbody>\n",
       "</table>\n",
       "</div>"
      ],
      "text/plain": [
       "   SNo      Name Symbol                Date      High       Low      Open  \\\n",
       "0    1  Ethereum    ETH 2015-08-08 23:59:59  2.798810  0.714725  2.793760   \n",
       "1    2  Ethereum    ETH 2015-08-09 23:59:59  0.879810  0.629191  0.706136   \n",
       "2    3  Ethereum    ETH 2015-08-10 23:59:59  0.729854  0.636546  0.713989   \n",
       "3    4  Ethereum    ETH 2015-08-11 23:59:59  1.131410  0.663235  0.708087   \n",
       "4    5  Ethereum    ETH 2015-08-12 23:59:59  1.289940  0.883608  1.058750   \n",
       "\n",
       "      Close     Volume     Marketcap  \n",
       "0  0.753325   674188.0  4.548689e+07  \n",
       "1  0.701897   532170.0  4.239957e+07  \n",
       "2  0.708448   405283.0  4.281836e+07  \n",
       "3  1.067860  1463100.0  6.456929e+07  \n",
       "4  1.217440  2150620.0  7.364501e+07  "
      ]
     },
     "execution_count": 17,
     "metadata": {},
     "output_type": "execute_result"
    }
   ],
   "source": [
    "df = pd.read_csv(\"./coin_Ethereum.csv\", parse_dates=['Date'])\n",
    "df.head()"
   ]
  },
  {
   "cell_type": "code",
   "execution_count": 18,
   "metadata": {},
   "outputs": [
    {
     "data": {
      "text/plain": [
       "Text(0, 0.5, 'Close Price (USD)')"
      ]
     },
     "execution_count": 18,
     "metadata": {},
     "output_type": "execute_result"
    },
    {
     "data": {
      "image/png": "[encoded data removed]",
      "text/plain": [
       "<Figure size 432x288 with 1 Axes>"
      ]
     },
     "metadata": {
      "needs_background": "light"
     },
     "output_type": "display_data"
    }
   ],
   "source": [
    "df.shape\n",
    "df = df.sort_values('Date')\n",
    "ax = df.plot(x='Date', y='Close');\n",
    "ax.set_xlabel(\"Date\")\n",
    "ax.set_ylabel(\"Close Price (USD)\")"
   ]
  },
  {
   "cell_type": "code",
   "execution_count": 19,
   "metadata": {},
   "outputs": [
    {
     "data": {
      "text/html": [
       "<div>\n",
       "<style scoped>\n",
       "    .dataframe tbody tr th:only-of-type {\n",
       "        vertical-align: middle;\n",
       "    }\n",
       "\n",
       "    .dataframe tbody tr th {\n",
       "        vertical-align: top;\n",
       "    }\n",
       "\n",
       "    .dataframe thead th {\n",
       "        text-align: right;\n",
       "    }\n",
       "</style>\n",
       "<table border=\"1\" class=\"dataframe\">\n",
       "  <thead>\n",
       "    <tr style=\"text-align: right;\">\n",
       "      <th></th>\n",
       "      <th>SNo</th>\n",
       "      <th>High</th>\n",
       "      <th>Low</th>\n",
       "      <th>Open</th>\n",
       "      <th>Close</th>\n",
       "      <th>Volume</th>\n",
       "      <th>Marketcap</th>\n",
       "    </tr>\n",
       "  </thead>\n",
       "  <tbody>\n",
       "    <tr>\n",
       "      <th>count</th>\n",
       "      <td>2160.000000</td>\n",
       "      <td>2160.000000</td>\n",
       "      <td>2160.000000</td>\n",
       "      <td>2160.000000</td>\n",
       "      <td>2160.000000</td>\n",
       "      <td>2.160000e+03</td>\n",
       "      <td>2.160000e+03</td>\n",
       "    </tr>\n",
       "    <tr>\n",
       "      <th>mean</th>\n",
       "      <td>1080.500000</td>\n",
       "      <td>398.258568</td>\n",
       "      <td>365.592589</td>\n",
       "      <td>382.879899</td>\n",
       "      <td>383.910691</td>\n",
       "      <td>7.057058e+09</td>\n",
       "      <td>4.172084e+10</td>\n",
       "    </tr>\n",
       "    <tr>\n",
       "      <th>std</th>\n",
       "      <td>623.682612</td>\n",
       "      <td>628.082281</td>\n",
       "      <td>566.611523</td>\n",
       "      <td>599.719862</td>\n",
       "      <td>601.078766</td>\n",
       "      <td>1.064526e+10</td>\n",
       "      <td>6.909184e+10</td>\n",
       "    </tr>\n",
       "    <tr>\n",
       "      <th>min</th>\n",
       "      <td>1.000000</td>\n",
       "      <td>0.482988</td>\n",
       "      <td>0.420897</td>\n",
       "      <td>0.431589</td>\n",
       "      <td>0.434829</td>\n",
       "      <td>1.021280e+05</td>\n",
       "      <td>3.221363e+07</td>\n",
       "    </tr>\n",
       "    <tr>\n",
       "      <th>25%</th>\n",
       "      <td>540.750000</td>\n",
       "      <td>14.265225</td>\n",
       "      <td>13.190950</td>\n",
       "      <td>13.757600</td>\n",
       "      <td>13.819200</td>\n",
       "      <td>3.825102e+07</td>\n",
       "      <td>1.135576e+09</td>\n",
       "    </tr>\n",
       "    <tr>\n",
       "      <th>50%</th>\n",
       "      <td>1080.500000</td>\n",
       "      <td>205.124631</td>\n",
       "      <td>193.302715</td>\n",
       "      <td>198.425096</td>\n",
       "      <td>198.643691</td>\n",
       "      <td>2.148880e+09</td>\n",
       "      <td>2.070063e+10</td>\n",
       "    </tr>\n",
       "    <tr>\n",
       "      <th>75%</th>\n",
       "      <td>1620.250000</td>\n",
       "      <td>396.494561</td>\n",
       "      <td>375.146804</td>\n",
       "      <td>386.264935</td>\n",
       "      <td>386.435272</td>\n",
       "      <td>9.629136e+09</td>\n",
       "      <td>4.231010e+10</td>\n",
       "    </tr>\n",
       "    <tr>\n",
       "      <th>max</th>\n",
       "      <td>2160.000000</td>\n",
       "      <td>4362.350542</td>\n",
       "      <td>3785.848603</td>\n",
       "      <td>4174.635873</td>\n",
       "      <td>4168.701049</td>\n",
       "      <td>8.448291e+10</td>\n",
       "      <td>4.828819e+11</td>\n",
       "    </tr>\n",
       "  </tbody>\n",
       "</table>\n",
       "</div>"
      ],
      "text/plain": [
       "               SNo         High          Low         Open        Close  \\\n",
       "count  2160.000000  2160.000000  2160.000000  2160.000000  2160.000000   \n",
       "mean   1080.500000   398.258568   365.592589   382.879899   383.910691   \n",
       "std     623.682612   628.082281   566.611523   599.719862   601.078766   \n",
       "min       1.000000     0.482988     0.420897     0.431589     0.434829   \n",
       "25%     540.750000    14.265225    13.190950    13.757600    13.819200   \n",
       "50%    1080.500000   205.124631   193.302715   198.425096   198.643691   \n",
       "75%    1620.250000   396.494561   375.146804   386.264935   386.435272   \n",
       "max    2160.000000  4362.350542  3785.848603  4174.635873  4168.701049   \n",
       "\n",
       "             Volume     Marketcap  \n",
       "count  2.160000e+03  2.160000e+03  \n",
       "mean   7.057058e+09  4.172084e+10  \n",
       "std    1.064526e+10  6.909184e+10  \n",
       "min    1.021280e+05  3.221363e+07  \n",
       "25%    3.825102e+07  1.135576e+09  \n",
       "50%    2.148880e+09  2.070063e+10  \n",
       "75%    9.629136e+09  4.231010e+10  \n",
       "max    8.448291e+10  4.828819e+11  "
      ]
     },
     "execution_count": 19,
     "metadata": {},
     "output_type": "execute_result"
    }
   ],
   "source": [
    "df.describe()"
   ]
  },
  {
   "cell_type": "code",
   "execution_count": 20,
   "metadata": {},
   "outputs": [],
   "source": [
    "close_price = df.Close.values.reshape(-1, 1)\n",
    "scaled_close = scaler.fit_transform(close_price)"
   ]
  },
  {
   "cell_type": "code",
   "execution_count": 21,
   "metadata": {},
   "outputs": [
    {
     "data": {
      "text/plain": [
       "(2160, 1)"
      ]
     },
     "execution_count": 21,
     "metadata": {},
     "output_type": "execute_result"
    }
   ],
   "source": [
    "scaled_close.shape"
   ]
  },
  {
   "cell_type": "code",
   "execution_count": 22,
   "metadata": {},
   "outputs": [
    {
     "data": {
      "text/plain": [
       "False"
      ]
     },
     "execution_count": 22,
     "metadata": {},
     "output_type": "execute_result"
    }
   ],
   "source": [
    "np.isnan(scaled_close).any()"
   ]
  },
  {
   "cell_type": "code",
   "execution_count": 23,
   "metadata": {},
   "outputs": [],
   "source": [
    "scaled_close = scaled_close[~np.isnan(scaled_close)]"
   ]
  },
  {
   "cell_type": "code",
   "execution_count": 24,
   "metadata": {},
   "outputs": [],
   "source": [
    "scaled_close = scaled_close.reshape(-1, 1)"
   ]
  },
  {
   "cell_type": "code",
   "execution_count": 25,
   "metadata": {},
   "outputs": [
    {
     "data": {
      "text/plain": [
       "False"
      ]
     },
     "execution_count": 25,
     "metadata": {},
     "output_type": "execute_result"
    }
   ],
   "source": [
    "np.isnan(scaled_close).any()"
   ]
  },
  {
   "cell_type": "code",
   "execution_count": 26,
   "metadata": {},
   "outputs": [
    {
     "data": {
      "text/plain": [
       "(206, 99, 1)"
      ]
     },
     "execution_count": 26,
     "metadata": {},
     "output_type": "execute_result"
    }
   ],
   "source": [
    "X_train, y_train, X_test, y_test = preprocess(scaled_close, SEQ_LEN, train_split = 0.90)\n",
    "X_test.shape"
   ]
  },
  {
   "cell_type": "code",
   "execution_count": 27,
   "metadata": {},
   "outputs": [],
   "source": [
    "DROPOUT = 0.2\n",
    "WINDOW_SIZE = SEQ_LEN - 1\n",
    "\n",
    "DROPOUT = 0.2\n",
    "WINDOW_SIZE = SEQ_LEN - 1\n",
    "\n",
    "model = keras.Sequential()\n",
    "\n",
    "model.add(Bidirectional(LSTM(WINDOW_SIZE, return_sequences=True),  input_shape=(WINDOW_SIZE, X_train.shape[-1])))\n",
    "model.add(Dropout(rate=DROPOUT))\n",
    "\n",
    "model.add(Bidirectional(LSTM((WINDOW_SIZE * 2), return_sequences=True)))\n",
    "model.add(Dropout(rate=DROPOUT))\n",
    "\n",
    "model.add(Bidirectional(LSTM(WINDOW_SIZE, return_sequences=False)))\n",
    "\n",
    "model.add(Dense(units=1))\n",
    "\n",
    "model.add(Activation('linear'))"
   ]
  },
  {
   "cell_type": "code",
   "execution_count": 28,
   "metadata": {},
   "outputs": [],
   "source": [
    "model.compile(\n",
    "    loss = 'MSE',\n",
    "    optimizer='adam'\n",
    ")"
   ]
  },
  {
   "cell_type": "code",
   "execution_count": 29,
   "metadata": {},
   "outputs": [
    {
     "name": "stdout",
     "output_type": "stream",
     "text": [
      "Epoch 1/50\n",
      "27/27 [==============================] - 12s 125ms/step - loss: 0.0014 - val_loss: 0.0013\n",
      "Epoch 2/50\n",
      "27/27 [==============================] - 2s 56ms/step - loss: 0.0035 - val_loss: 0.0035\n",
      "Epoch 3/50\n",
      "27/27 [==============================] - 1s 55ms/step - loss: 0.0029 - val_loss: 7.0702e-04\n",
      "Epoch 4/50\n",
      "27/27 [==============================] - 1s 54ms/step - loss: 4.0415e-04 - val_loss: 7.1006e-04\n",
      "Epoch 5/50\n",
      "27/27 [==============================] - 1s 55ms/step - loss: 7.3748e-04 - val_loss: 2.0596e-04\n",
      "Epoch 6/50\n",
      "27/27 [==============================] - 1s 54ms/step - loss: 0.0015 - val_loss: 2.8100e-04\n",
      "Epoch 7/50\n",
      "27/27 [==============================] - 1s 54ms/step - loss: 2.2919e-04 - val_loss: 2.1325e-04\n",
      "Epoch 8/50\n",
      "27/27 [==============================] - 1s 54ms/step - loss: 1.6322e-04 - val_loss: 6.5127e-05\n",
      "Epoch 9/50\n",
      "27/27 [==============================] - 1s 54ms/step - loss: 1.3623e-04 - val_loss: 1.2940e-04\n",
      "Epoch 10/50\n",
      "27/27 [==============================] - 1s 55ms/step - loss: 1.6164e-04 - val_loss: 6.4515e-05\n",
      "Epoch 11/50\n",
      "27/27 [==============================] - 1s 55ms/step - loss: 9.7391e-05 - val_loss: 6.3063e-05\n",
      "Epoch 12/50\n",
      "27/27 [==============================] - 2s 56ms/step - loss: 1.0125e-04 - val_loss: 1.0764e-04\n",
      "Epoch 13/50\n",
      "27/27 [==============================] - 1s 55ms/step - loss: 9.8407e-05 - val_loss: 4.7653e-05\n",
      "Epoch 14/50\n",
      "27/27 [==============================] - 1s 55ms/step - loss: 1.0036e-04 - val_loss: 5.5704e-05\n",
      "Epoch 15/50\n",
      "27/27 [==============================] - 1s 55ms/step - loss: 1.5227e-04 - val_loss: 2.2297e-04\n",
      "Epoch 16/50\n",
      "27/27 [==============================] - 1s 55ms/step - loss: 1.9777e-04 - val_loss: 1.4175e-04\n",
      "Epoch 17/50\n",
      "27/27 [==============================] - 1s 55ms/step - loss: 4.4613e-04 - val_loss: 6.7670e-05\n",
      "Epoch 18/50\n",
      "27/27 [==============================] - 1s 56ms/step - loss: 7.5741e-04 - val_loss: 7.4352e-04\n",
      "Epoch 19/50\n",
      "27/27 [==============================] - 2s 56ms/step - loss: 4.0301e-04 - val_loss: 1.6841e-04\n",
      "Epoch 20/50\n",
      "27/27 [==============================] - 1s 55ms/step - loss: 5.3858e-04 - val_loss: 7.3301e-05\n",
      "Epoch 21/50\n",
      "27/27 [==============================] - 1s 55ms/step - loss: 4.4817e-04 - val_loss: 8.3538e-05\n",
      "Epoch 22/50\n",
      "27/27 [==============================] - 1s 55ms/step - loss: 1.7491e-04 - val_loss: 7.4680e-05\n",
      "Epoch 23/50\n",
      "27/27 [==============================] - 2s 56ms/step - loss: 1.5977e-04 - val_loss: 6.2390e-05\n",
      "Epoch 24/50\n",
      "27/27 [==============================] - 1s 55ms/step - loss: 1.5105e-04 - val_loss: 1.5872e-04\n",
      "Epoch 25/50\n",
      "27/27 [==============================] - 1s 55ms/step - loss: 3.7049e-04 - val_loss: 1.8193e-04\n",
      "Epoch 26/50\n",
      "27/27 [==============================] - 1s 55ms/step - loss: 4.4809e-04 - val_loss: 1.3712e-04\n",
      "Epoch 27/50\n",
      "27/27 [==============================] - 1s 55ms/step - loss: 6.7321e-04 - val_loss: 4.0856e-04\n",
      "Epoch 28/50\n",
      "27/27 [==============================] - 1s 55ms/step - loss: 6.6194e-04 - val_loss: 1.0220e-04\n",
      "Epoch 29/50\n",
      "27/27 [==============================] - 1s 54ms/step - loss: 6.5823e-04 - val_loss: 9.0739e-05\n",
      "Epoch 30/50\n",
      "27/27 [==============================] - 1s 55ms/step - loss: 1.7138e-04 - val_loss: 9.3002e-05\n",
      "Epoch 31/50\n",
      "27/27 [==============================] - 1s 55ms/step - loss: 1.0398e-04 - val_loss: 3.9491e-05\n",
      "Epoch 32/50\n",
      "27/27 [==============================] - 1s 55ms/step - loss: 7.4086e-05 - val_loss: 1.5621e-04\n",
      "Epoch 33/50\n",
      "27/27 [==============================] - 1s 56ms/step - loss: 1.9429e-04 - val_loss: 1.3093e-04\n",
      "Epoch 34/50\n",
      "27/27 [==============================] - 1s 55ms/step - loss: 2.4293e-04 - val_loss: 3.1868e-04\n",
      "Epoch 35/50\n",
      "27/27 [==============================] - 1s 55ms/step - loss: 5.4026e-04 - val_loss: 3.7111e-04\n",
      "Epoch 36/50\n",
      "27/27 [==============================] - 1s 55ms/step - loss: 6.3332e-04 - val_loss: 3.3001e-04\n",
      "Epoch 37/50\n",
      "27/27 [==============================] - 1s 55ms/step - loss: 6.4654e-04 - val_loss: 4.2588e-04\n",
      "Epoch 38/50\n",
      "27/27 [==============================] - 1s 55ms/step - loss: 4.4841e-04 - val_loss: 5.0780e-05\n",
      "Epoch 39/50\n",
      "27/27 [==============================] - 1s 55ms/step - loss: 2.3461e-04 - val_loss: 5.4374e-05\n",
      "Epoch 40/50\n",
      "27/27 [==============================] - 2s 56ms/step - loss: 1.0302e-04 - val_loss: 2.5567e-04\n",
      "Epoch 41/50\n",
      "27/27 [==============================] - 2s 61ms/step - loss: 3.4527e-04 - val_loss: 2.4038e-04\n",
      "Epoch 42/50\n",
      "27/27 [==============================] - 1s 55ms/step - loss: 4.2208e-04 - val_loss: 7.2116e-04\n",
      "Epoch 43/50\n",
      "27/27 [==============================] - 1s 54ms/step - loss: 9.1951e-04 - val_loss: 1.5786e-04\n",
      "Epoch 44/50\n",
      "27/27 [==============================] - 1s 54ms/step - loss: 3.6644e-04 - val_loss: 4.3117e-04\n",
      "Epoch 45/50\n",
      "27/27 [==============================] - 1s 54ms/step - loss: 4.3769e-04 - val_loss: 3.1337e-04\n",
      "Epoch 46/50\n",
      "27/27 [==============================] - 1s 54ms/step - loss: 4.3580e-04 - val_loss: 6.4487e-04\n",
      "Epoch 47/50\n",
      "27/27 [==============================] - 1s 55ms/step - loss: 7.9102e-04 - val_loss: 2.2756e-04\n",
      "Epoch 48/50\n",
      "27/27 [==============================] - 2s 56ms/step - loss: 4.0495e-04 - val_loss: 3.7594e-04\n",
      "Epoch 49/50\n",
      "27/27 [==============================] - 1s 54ms/step - loss: 4.8139e-04 - val_loss: 3.1139e-04\n",
      "Epoch 50/50\n",
      "27/27 [==============================] - 1s 55ms/step - loss: 4.1429e-04 - val_loss: 6.6617e-04\n"
     ]
    }
   ],
   "source": [
    "BATCH_SIZE = 64\n",
    "\n",
    "history = model.fit(\n",
    "    X_train, \n",
    "    y_train, \n",
    "    epochs=50, \n",
    "    batch_size=BATCH_SIZE, \n",
    "    shuffle=False,\n",
    "    validation_split=0.1,\n",
    "    \n",
    ")"
   ]
  },
  {
   "cell_type": "code",
   "execution_count": 30,
   "metadata": {},
   "outputs": [
    {
     "name": "stdout",
     "output_type": "stream",
     "text": [
      "7/7 [==============================] - 0s 17ms/step - loss: 0.0585\n"
     ]
    },
    {
     "data": {
      "text/plain": [
       "0.05845358222723007"
      ]
     },
     "execution_count": 30,
     "metadata": {},
     "output_type": "execute_result"
    }
   ],
   "source": [
    "model.evaluate(X_test, y_test)"
   ]
  },
  {
   "cell_type": "code",
   "execution_count": 31,
   "metadata": {},
   "outputs": [
    {
     "data": {
      "image/png": "[encoded data removed]",
      "text/plain": [
       "<Figure size 432x288 with 1 Axes>"
      ]
     },
     "metadata": {
      "needs_background": "light"
     },
     "output_type": "display_data"
    }
   ],
   "source": [
    "plt.plot(history.history['loss'])\n",
    "plt.plot(history.history['val_loss'])\n",
    "plt.title('model loss')\n",
    "plt.ylabel('loss')\n",
    "plt.xlabel('epoch')\n",
    "plt.legend(['train', 'test'], loc='upper left')\n",
    "plt.show()"
   ]
  },
  {
   "cell_type": "code",
   "execution_count": 32,
   "metadata": {},
   "outputs": [
    {
     "data": {
      "image/png": "[encoded data removed]",
      "text/plain": [
       "<Figure size 432x288 with 1 Axes>"
      ]
     },
     "metadata": {
      "needs_background": "light"
     },
     "output_type": "display_data"
    }
   ],
   "source": [
    "y_hat = model.predict(X_test)\n",
    "\n",
    "y_test_inverse = scaler.inverse_transform(y_test)\n",
    "y_hat_inverse = scaler.inverse_transform(y_hat)\n",
    " \n",
    "plt.plot(y_test_inverse, label=\"Actual Price\", color='green')\n",
    "plt.plot(y_hat_inverse, label=\"Predicted Price\", color='red')\n",
    " \n",
    "plt.title('Ethereum price prediction')\n",
    "plt.xlabel('Time [days]')\n",
    "plt.ylabel('Price')\n",
    "plt.legend(loc='best')\n",
    " \n",
    "plt.show();"
   ]
  },
  {
   "cell_type": "markdown",
   "metadata": {},
   "source": [
    "### Cardano"
   ]
  },
  {
   "cell_type": "code",
   "execution_count": 33,
   "metadata": {},
   "outputs": [
    {
     "data": {
      "text/html": [
       "<div>\n",
       "<style scoped>\n",
       "    .dataframe tbody tr th:only-of-type {\n",
       "        vertical-align: middle;\n",
       "    }\n",
       "\n",
       "    .dataframe tbody tr th {\n",
       "        vertical-align: top;\n",
       "    }\n",
       "\n",
       "    .dataframe thead th {\n",
       "        text-align: right;\n",
       "    }\n",
       "</style>\n",
       "<table border=\"1\" class=\"dataframe\">\n",
       "  <thead>\n",
       "    <tr style=\"text-align: right;\">\n",
       "      <th></th>\n",
       "      <th>SNo</th>\n",
       "      <th>Name</th>\n",
       "      <th>Symbol</th>\n",
       "      <th>Date</th>\n",
       "      <th>High</th>\n",
       "      <th>Low</th>\n",
       "      <th>Open</th>\n",
       "      <th>Close</th>\n",
       "      <th>Volume</th>\n",
       "      <th>Marketcap</th>\n",
       "    </tr>\n",
       "  </thead>\n",
       "  <tbody>\n",
       "    <tr>\n",
       "      <th>0</th>\n",
       "      <td>1</td>\n",
       "      <td>Cardano</td>\n",
       "      <td>ADA</td>\n",
       "      <td>2017-10-02 23:59:59</td>\n",
       "      <td>0.030088</td>\n",
       "      <td>0.019969</td>\n",
       "      <td>0.024607</td>\n",
       "      <td>0.025932</td>\n",
       "      <td>57641300.0</td>\n",
       "      <td>6.288991e+08</td>\n",
       "    </tr>\n",
       "    <tr>\n",
       "      <th>1</th>\n",
       "      <td>2</td>\n",
       "      <td>Cardano</td>\n",
       "      <td>ADA</td>\n",
       "      <td>2017-10-03 23:59:59</td>\n",
       "      <td>0.027425</td>\n",
       "      <td>0.020690</td>\n",
       "      <td>0.025757</td>\n",
       "      <td>0.020816</td>\n",
       "      <td>16997800.0</td>\n",
       "      <td>5.396927e+08</td>\n",
       "    </tr>\n",
       "    <tr>\n",
       "      <th>2</th>\n",
       "      <td>3</td>\n",
       "      <td>Cardano</td>\n",
       "      <td>ADA</td>\n",
       "      <td>2017-10-04 23:59:59</td>\n",
       "      <td>0.022806</td>\n",
       "      <td>0.020864</td>\n",
       "      <td>0.020864</td>\n",
       "      <td>0.021931</td>\n",
       "      <td>9000050.0</td>\n",
       "      <td>5.686195e+08</td>\n",
       "    </tr>\n",
       "    <tr>\n",
       "      <th>3</th>\n",
       "      <td>4</td>\n",
       "      <td>Cardano</td>\n",
       "      <td>ADA</td>\n",
       "      <td>2017-10-05 23:59:59</td>\n",
       "      <td>0.022154</td>\n",
       "      <td>0.020859</td>\n",
       "      <td>0.021951</td>\n",
       "      <td>0.021489</td>\n",
       "      <td>5562510.0</td>\n",
       "      <td>5.571390e+08</td>\n",
       "    </tr>\n",
       "    <tr>\n",
       "      <th>4</th>\n",
       "      <td>5</td>\n",
       "      <td>Cardano</td>\n",
       "      <td>ADA</td>\n",
       "      <td>2017-10-06 23:59:59</td>\n",
       "      <td>0.021542</td>\n",
       "      <td>0.018360</td>\n",
       "      <td>0.021359</td>\n",
       "      <td>0.018539</td>\n",
       "      <td>7780710.0</td>\n",
       "      <td>4.806646e+08</td>\n",
       "    </tr>\n",
       "  </tbody>\n",
       "</table>\n",
       "</div>"
      ],
      "text/plain": [
       "   SNo     Name Symbol                Date      High       Low      Open  \\\n",
       "0    1  Cardano    ADA 2017-10-02 23:59:59  0.030088  0.019969  0.024607   \n",
       "1    2  Cardano    ADA 2017-10-03 23:59:59  0.027425  0.020690  0.025757   \n",
       "2    3  Cardano    ADA 2017-10-04 23:59:59  0.022806  0.020864  0.020864   \n",
       "3    4  Cardano    ADA 2017-10-05 23:59:59  0.022154  0.020859  0.021951   \n",
       "4    5  Cardano    ADA 2017-10-06 23:59:59  0.021542  0.018360  0.021359   \n",
       "\n",
       "      Close      Volume     Marketcap  \n",
       "0  0.025932  57641300.0  6.288991e+08  \n",
       "1  0.020816  16997800.0  5.396927e+08  \n",
       "2  0.021931   9000050.0  5.686195e+08  \n",
       "3  0.021489   5562510.0  5.571390e+08  \n",
       "4  0.018539   7780710.0  4.806646e+08  "
      ]
     },
     "execution_count": 33,
     "metadata": {},
     "output_type": "execute_result"
    }
   ],
   "source": [
    "df = pd.read_csv(\"./coin_Cardano.csv\", parse_dates=['Date'])\n",
    "df.head()"
   ]
  },
  {
   "cell_type": "code",
   "execution_count": 34,
   "metadata": {},
   "outputs": [
    {
     "data": {
      "text/plain": [
       "Text(0, 0.5, 'Close Price (USD)')"
      ]
     },
     "execution_count": 34,
     "metadata": {},
     "output_type": "execute_result"
    },
    {
     "data": {
      "image/png": "[encoded data removed]",
      "text/plain": [
       "<Figure size 432x288 with 1 Axes>"
      ]
     },
     "metadata": {
      "needs_background": "light"
     },
     "output_type": "display_data"
    }
   ],
   "source": [
    "df.shape\n",
    "df = df.sort_values('Date')\n",
    "ax = df.plot(x='Date', y='Close');\n",
    "ax.set_xlabel(\"Date\")\n",
    "ax.set_ylabel(\"Close Price (USD)\")"
   ]
  },
  {
   "cell_type": "code",
   "execution_count": 35,
   "metadata": {},
   "outputs": [
    {
     "data": {
      "text/html": [
       "<div>\n",
       "<style scoped>\n",
       "    .dataframe tbody tr th:only-of-type {\n",
       "        vertical-align: middle;\n",
       "    }\n",
       "\n",
       "    .dataframe tbody tr th {\n",
       "        vertical-align: top;\n",
       "    }\n",
       "\n",
       "    .dataframe thead th {\n",
       "        text-align: right;\n",
       "    }\n",
       "</style>\n",
       "<table border=\"1\" class=\"dataframe\">\n",
       "  <thead>\n",
       "    <tr style=\"text-align: right;\">\n",
       "      <th></th>\n",
       "      <th>SNo</th>\n",
       "      <th>High</th>\n",
       "      <th>Low</th>\n",
       "      <th>Open</th>\n",
       "      <th>Close</th>\n",
       "      <th>Volume</th>\n",
       "      <th>Marketcap</th>\n",
       "    </tr>\n",
       "  </thead>\n",
       "  <tbody>\n",
       "    <tr>\n",
       "      <th>count</th>\n",
       "      <td>1374.000000</td>\n",
       "      <td>1374.000000</td>\n",
       "      <td>1374.000000</td>\n",
       "      <td>1374.000000</td>\n",
       "      <td>1374.000000</td>\n",
       "      <td>1.374000e+03</td>\n",
       "      <td>1.374000e+03</td>\n",
       "    </tr>\n",
       "    <tr>\n",
       "      <th>mean</th>\n",
       "      <td>687.500000</td>\n",
       "      <td>0.269807</td>\n",
       "      <td>0.239710</td>\n",
       "      <td>0.255287</td>\n",
       "      <td>0.256313</td>\n",
       "      <td>8.934183e+08</td>\n",
       "      <td>7.603454e+09</td>\n",
       "    </tr>\n",
       "    <tr>\n",
       "      <th>std</th>\n",
       "      <td>396.783946</td>\n",
       "      <td>0.433523</td>\n",
       "      <td>0.380928</td>\n",
       "      <td>0.408456</td>\n",
       "      <td>0.409691</td>\n",
       "      <td>2.107653e+09</td>\n",
       "      <td>1.303878e+10</td>\n",
       "    </tr>\n",
       "    <tr>\n",
       "      <th>min</th>\n",
       "      <td>1.000000</td>\n",
       "      <td>0.021050</td>\n",
       "      <td>0.017620</td>\n",
       "      <td>0.018414</td>\n",
       "      <td>0.018539</td>\n",
       "      <td>1.739460e+06</td>\n",
       "      <td>4.806646e+08</td>\n",
       "    </tr>\n",
       "    <tr>\n",
       "      <th>25%</th>\n",
       "      <td>344.250000</td>\n",
       "      <td>0.047565</td>\n",
       "      <td>0.044601</td>\n",
       "      <td>0.045898</td>\n",
       "      <td>0.045947</td>\n",
       "      <td>5.014830e+07</td>\n",
       "      <td>1.191263e+09</td>\n",
       "    </tr>\n",
       "    <tr>\n",
       "      <th>50%</th>\n",
       "      <td>687.500000</td>\n",
       "      <td>0.090274</td>\n",
       "      <td>0.083164</td>\n",
       "      <td>0.086867</td>\n",
       "      <td>0.087002</td>\n",
       "      <td>1.186742e+08</td>\n",
       "      <td>2.270889e+09</td>\n",
       "    </tr>\n",
       "    <tr>\n",
       "      <th>75%</th>\n",
       "      <td>1030.750000</td>\n",
       "      <td>0.194519</td>\n",
       "      <td>0.172442</td>\n",
       "      <td>0.181374</td>\n",
       "      <td>0.183379</td>\n",
       "      <td>4.875977e+08</td>\n",
       "      <td>5.174547e+09</td>\n",
       "    </tr>\n",
       "    <tr>\n",
       "      <th>max</th>\n",
       "      <td>1374.000000</td>\n",
       "      <td>2.461766</td>\n",
       "      <td>2.013285</td>\n",
       "      <td>2.300190</td>\n",
       "      <td>2.309113</td>\n",
       "      <td>1.914198e+10</td>\n",
       "      <td>7.377224e+10</td>\n",
       "    </tr>\n",
       "  </tbody>\n",
       "</table>\n",
       "</div>"
      ],
      "text/plain": [
       "               SNo         High          Low         Open        Close  \\\n",
       "count  1374.000000  1374.000000  1374.000000  1374.000000  1374.000000   \n",
       "mean    687.500000     0.269807     0.239710     0.255287     0.256313   \n",
       "std     396.783946     0.433523     0.380928     0.408456     0.409691   \n",
       "min       1.000000     0.021050     0.017620     0.018414     0.018539   \n",
       "25%     344.250000     0.047565     0.044601     0.045898     0.045947   \n",
       "50%     687.500000     0.090274     0.083164     0.086867     0.087002   \n",
       "75%    1030.750000     0.194519     0.172442     0.181374     0.183379   \n",
       "max    1374.000000     2.461766     2.013285     2.300190     2.309113   \n",
       "\n",
       "             Volume     Marketcap  \n",
       "count  1.374000e+03  1.374000e+03  \n",
       "mean   8.934183e+08  7.603454e+09  \n",
       "std    2.107653e+09  1.303878e+10  \n",
       "min    1.739460e+06  4.806646e+08  \n",
       "25%    5.014830e+07  1.191263e+09  \n",
       "50%    1.186742e+08  2.270889e+09  \n",
       "75%    4.875977e+08  5.174547e+09  \n",
       "max    1.914198e+10  7.377224e+10  "
      ]
     },
     "execution_count": 35,
     "metadata": {},
     "output_type": "execute_result"
    }
   ],
   "source": [
    "df.describe()"
   ]
  },
  {
   "cell_type": "code",
   "execution_count": 36,
   "metadata": {},
   "outputs": [
    {
     "data": {
      "text/plain": [
       "(1374, 1)"
      ]
     },
     "execution_count": 36,
     "metadata": {},
     "output_type": "execute_result"
    }
   ],
   "source": [
    "close_price = df.Close.values.reshape(-1, 1)\n",
    "scaled_close = scaler.fit_transform(close_price)\n",
    "scaled_close.shape"
   ]
  },
  {
   "cell_type": "code",
   "execution_count": 37,
   "metadata": {},
   "outputs": [
    {
     "data": {
      "text/plain": [
       "False"
      ]
     },
     "execution_count": 37,
     "metadata": {},
     "output_type": "execute_result"
    }
   ],
   "source": [
    "np.isnan(scaled_close).any()\n",
    "scaled_close = scaled_close[~np.isnan(scaled_close)]\n",
    "scaled_close = scaled_close.reshape(-1, 1)\n",
    "np.isnan(scaled_close).any()"
   ]
  },
  {
   "cell_type": "code",
   "execution_count": 38,
   "metadata": {},
   "outputs": [
    {
     "data": {
      "text/plain": [
       "(128, 99, 1)"
      ]
     },
     "execution_count": 38,
     "metadata": {},
     "output_type": "execute_result"
    }
   ],
   "source": [
    "X_train, y_train, X_test, y_test = preprocess(scaled_close, SEQ_LEN, train_split = 0.90)\n",
    "X_test.shape"
   ]
  },
  {
   "cell_type": "code",
   "execution_count": 39,
   "metadata": {},
   "outputs": [],
   "source": [
    "DROPOUT = 0.2\n",
    "WINDOW_SIZE = SEQ_LEN - 1\n",
    "\n",
    "DROPOUT = 0.2\n",
    "WINDOW_SIZE = SEQ_LEN - 1\n",
    "\n",
    "model = keras.Sequential()\n",
    "\n",
    "model.add(Bidirectional(LSTM(WINDOW_SIZE, return_sequences=True),  input_shape=(WINDOW_SIZE, X_train.shape[-1])))\n",
    "model.add(Dropout(rate=DROPOUT))\n",
    "\n",
    "model.add(Bidirectional(LSTM((WINDOW_SIZE * 2), return_sequences=True)))\n",
    "model.add(Dropout(rate=DROPOUT))\n",
    "\n",
    "model.add(Bidirectional(LSTM(WINDOW_SIZE, return_sequences=False)))\n",
    "\n",
    "model.add(Dense(units=1))\n",
    "\n",
    "model.add(Activation('linear'))"
   ]
  },
  {
   "cell_type": "code",
   "execution_count": 40,
   "metadata": {},
   "outputs": [],
   "source": [
    "model.compile(\n",
    "    loss = 'MSE',\n",
    "    optimizer='adam'\n",
    ")"
   ]
  },
  {
   "cell_type": "code",
   "execution_count": 41,
   "metadata": {},
   "outputs": [
    {
     "name": "stdout",
     "output_type": "stream",
     "text": [
      "Epoch 1/50\n",
      "17/17 [==============================] - 12s 167ms/step - loss: 0.0034 - val_loss: 0.0179\n",
      "Epoch 2/50\n",
      "17/17 [==============================] - 1s 59ms/step - loss: 0.0036 - val_loss: 0.0051\n",
      "Epoch 3/50\n",
      "17/17 [==============================] - 1s 56ms/step - loss: 3.0280e-04 - val_loss: 0.0164\n",
      "Epoch 4/50\n",
      "17/17 [==============================] - 1s 54ms/step - loss: 0.0018 - val_loss: 0.0026\n",
      "Epoch 5/50\n",
      "17/17 [==============================] - 1s 55ms/step - loss: 5.0013e-04 - val_loss: 0.0142\n",
      "Epoch 6/50\n",
      "17/17 [==============================] - 1s 54ms/step - loss: 0.0010 - val_loss: 0.0015\n",
      "Epoch 7/50\n",
      "17/17 [==============================] - 1s 55ms/step - loss: 4.9690e-04 - val_loss: 0.0160\n",
      "Epoch 8/50\n",
      "17/17 [==============================] - 1s 55ms/step - loss: 0.0012 - val_loss: 0.0083\n",
      "Epoch 9/50\n",
      "17/17 [==============================] - 1s 55ms/step - loss: 3.1944e-04 - val_loss: 8.8218e-04\n",
      "Epoch 10/50\n",
      "17/17 [==============================] - 1s 54ms/step - loss: 7.3542e-04 - val_loss: 0.0178\n",
      "Epoch 11/50\n",
      "17/17 [==============================] - 1s 56ms/step - loss: 0.0016 - val_loss: 0.0133\n",
      "Epoch 12/50\n",
      "17/17 [==============================] - 1s 57ms/step - loss: 0.0010 - val_loss: 0.0025\n",
      "Epoch 13/50\n",
      "17/17 [==============================] - 1s 57ms/step - loss: 2.9856e-04 - val_loss: 0.0109\n",
      "Epoch 14/50\n",
      "17/17 [==============================] - 1s 58ms/step - loss: 6.7216e-04 - val_loss: 0.0018\n",
      "Epoch 15/50\n",
      "17/17 [==============================] - 1s 58ms/step - loss: 1.6288e-04 - val_loss: 0.0078\n",
      "Epoch 16/50\n",
      "17/17 [==============================] - 1s 57ms/step - loss: 2.9859e-04 - val_loss: 0.0020\n",
      "Epoch 17/50\n",
      "17/17 [==============================] - 1s 56ms/step - loss: 1.0822e-04 - val_loss: 0.0054\n",
      "Epoch 18/50\n",
      "17/17 [==============================] - 1s 60ms/step - loss: 1.7662e-04 - val_loss: 0.0020\n",
      "Epoch 19/50\n",
      "17/17 [==============================] - 1s 56ms/step - loss: 1.0057e-04 - val_loss: 0.0047\n",
      "Epoch 20/50\n",
      "17/17 [==============================] - 1s 57ms/step - loss: 1.5848e-04 - val_loss: 0.0018\n",
      "Epoch 21/50\n",
      "17/17 [==============================] - 1s 55ms/step - loss: 1.0518e-04 - val_loss: 0.0054\n",
      "Epoch 22/50\n",
      "17/17 [==============================] - 1s 55ms/step - loss: 2.1807e-04 - val_loss: 0.0016\n",
      "Epoch 23/50\n",
      "17/17 [==============================] - 1s 55ms/step - loss: 1.1503e-04 - val_loss: 0.0058\n",
      "Epoch 24/50\n",
      "17/17 [==============================] - 1s 55ms/step - loss: 2.6543e-04 - val_loss: 0.0016\n",
      "Epoch 25/50\n",
      "17/17 [==============================] - 1s 54ms/step - loss: 1.1994e-04 - val_loss: 0.0055\n",
      "Epoch 26/50\n",
      "17/17 [==============================] - 1s 55ms/step - loss: 2.6402e-04 - val_loss: 0.0015\n",
      "Epoch 27/50\n",
      "17/17 [==============================] - 1s 56ms/step - loss: 1.1767e-04 - val_loss: 0.0057\n",
      "Epoch 28/50\n",
      "17/17 [==============================] - 1s 57ms/step - loss: 2.9235e-04 - val_loss: 0.0016\n",
      "Epoch 29/50\n",
      "17/17 [==============================] - 1s 56ms/step - loss: 1.1279e-04 - val_loss: 0.0049\n",
      "Epoch 30/50\n",
      "17/17 [==============================] - 1s 54ms/step - loss: 2.3947e-04 - val_loss: 0.0015\n",
      "Epoch 31/50\n",
      "17/17 [==============================] - 1s 54ms/step - loss: 1.2140e-04 - val_loss: 0.0056\n",
      "Epoch 32/50\n",
      "17/17 [==============================] - 1s 55ms/step - loss: 3.0394e-04 - val_loss: 0.0014\n",
      "Epoch 33/50\n",
      "17/17 [==============================] - 1s 56ms/step - loss: 1.2999e-04 - val_loss: 0.0059\n",
      "Epoch 34/50\n",
      "17/17 [==============================] - 1s 55ms/step - loss: 3.5164e-04 - val_loss: 0.0014\n",
      "Epoch 35/50\n",
      "17/17 [==============================] - 1s 57ms/step - loss: 1.3056e-04 - val_loss: 0.0061\n",
      "Epoch 36/50\n",
      "17/17 [==============================] - 1s 56ms/step - loss: 3.7614e-04 - val_loss: 0.0013\n",
      "Epoch 37/50\n",
      "17/17 [==============================] - 1s 55ms/step - loss: 1.3378e-04 - val_loss: 0.0067\n",
      "Epoch 38/50\n",
      "17/17 [==============================] - 1s 56ms/step - loss: 4.2390e-04 - val_loss: 0.0014\n",
      "Epoch 39/50\n",
      "17/17 [==============================] - 1s 57ms/step - loss: 1.1518e-04 - val_loss: 0.0053\n",
      "Epoch 40/50\n",
      "17/17 [==============================] - 1s 59ms/step - loss: 2.8506e-04 - val_loss: 0.0012\n",
      "Epoch 41/50\n",
      "17/17 [==============================] - 1s 56ms/step - loss: 1.1643e-04 - val_loss: 0.0060\n",
      "Epoch 42/50\n",
      "17/17 [==============================] - 1s 55ms/step - loss: 3.2741e-04 - val_loss: 0.0013\n",
      "Epoch 43/50\n",
      "17/17 [==============================] - 1s 56ms/step - loss: 1.1209e-04 - val_loss: 0.0057\n",
      "Epoch 44/50\n",
      "17/17 [==============================] - 1s 59ms/step - loss: 3.1562e-04 - val_loss: 0.0012\n",
      "Epoch 45/50\n",
      "17/17 [==============================] - 1s 56ms/step - loss: 1.1938e-04 - val_loss: 0.0061\n",
      "Epoch 46/50\n",
      "17/17 [==============================] - 1s 55ms/step - loss: 3.5149e-04 - val_loss: 0.0013\n",
      "Epoch 47/50\n",
      "17/17 [==============================] - 1s 55ms/step - loss: 1.0984e-04 - val_loss: 0.0054\n",
      "Epoch 48/50\n",
      "17/17 [==============================] - 1s 55ms/step - loss: 3.0029e-04 - val_loss: 0.0012\n",
      "Epoch 49/50\n",
      "17/17 [==============================] - 1s 56ms/step - loss: 1.1042e-04 - val_loss: 0.0055\n",
      "Epoch 50/50\n",
      "17/17 [==============================] - 1s 56ms/step - loss: 2.9551e-04 - val_loss: 0.0012\n"
     ]
    }
   ],
   "source": [
    "BATCH_SIZE = 64\n",
    "\n",
    "history = model.fit(\n",
    "    X_train, \n",
    "    y_train, \n",
    "    epochs=50, \n",
    "    batch_size=BATCH_SIZE, \n",
    "    shuffle=False,\n",
    "    validation_split=0.1,\n",
    "    \n",
    ")"
   ]
  },
  {
   "cell_type": "code",
   "execution_count": 42,
   "metadata": {},
   "outputs": [
    {
     "name": "stdout",
     "output_type": "stream",
     "text": [
      "4/4 [==============================] - 2s 26ms/step - loss: 0.0073\n"
     ]
    },
    {
     "data": {
      "text/plain": [
       "0.007340879645198584"
      ]
     },
     "execution_count": 42,
     "metadata": {},
     "output_type": "execute_result"
    }
   ],
   "source": [
    "model.evaluate(X_test, y_test)"
   ]
  },
  {
   "cell_type": "code",
   "execution_count": 43,
   "metadata": {},
   "outputs": [
    {
     "data": {
      "image/png": "[encoded data removed]",
      "text/plain": [
       "<Figure size 432x288 with 1 Axes>"
      ]
     },
     "metadata": {
      "needs_background": "light"
     },
     "output_type": "display_data"
    }
   ],
   "source": [
    "plt.plot(history.history['loss'])\n",
    "plt.plot(history.history['val_loss'])\n",
    "plt.title('model loss')\n",
    "plt.ylabel('loss')\n",
    "plt.xlabel('epoch')\n",
    "plt.legend(['train', 'test'], loc='upper left')\n",
    "plt.show()"
   ]
  },
  {
   "cell_type": "code",
   "execution_count": 44,
   "metadata": {},
   "outputs": [
    {
     "data": {
      "image/png": "[encoded data removed]",
      "text/plain": [
       "<Figure size 432x288 with 1 Axes>"
      ]
     },
     "metadata": {
      "needs_background": "light"
     },
     "output_type": "display_data"
    }
   ],
   "source": [
    "y_hat = model.predict(X_test)\n",
    "\n",
    "y_test_inverse = scaler.inverse_transform(y_test)\n",
    "y_hat_inverse = scaler.inverse_transform(y_hat)\n",
    " \n",
    "plt.plot(y_test_inverse, label=\"Actual Price\", color='green')\n",
    "plt.plot(y_hat_inverse, label=\"Predicted Price\", color='red')\n",
    " \n",
    "plt.title('Cardano price prediction')\n",
    "plt.xlabel('Time [days]')\n",
    "plt.ylabel('Price')\n",
    "plt.legend(loc='best')\n",
    " \n",
    "plt.show();"
   ]
  },
  {
   "cell_type": "markdown",
   "metadata": {},
   "source": [
    "# Hybrid Model with LSTM-PNN"
   ]
  },
  {
   "cell_type": "markdown",
   "metadata": {},
   "source": [
    "# Bitcoin"
   ]
  },
  {
   "cell_type": "code",
   "execution_count": 45,
   "metadata": {},
   "outputs": [],
   "source": [
    "df = pd.read_csv(\"./coin_Bitcoin.csv\", parse_dates=['Date'])"
   ]
  },
  {
   "cell_type": "markdown",
   "metadata": {},
   "source": [
    "### Preprocessing"
   ]
  },
  {
   "cell_type": "code",
   "execution_count": 46,
   "metadata": {},
   "outputs": [],
   "source": [
    "close_price = df.Close.values.reshape(-1, 1)\n",
    "scaled_close = scaler.fit_transform(close_price)"
   ]
  },
  {
   "cell_type": "code",
   "execution_count": 47,
   "metadata": {},
   "outputs": [
    {
     "data": {
      "text/plain": [
       "False"
      ]
     },
     "execution_count": 47,
     "metadata": {},
     "output_type": "execute_result"
    }
   ],
   "source": [
    "np.isnan(scaled_close).any()"
   ]
  },
  {
   "cell_type": "code",
   "execution_count": 48,
   "metadata": {},
   "outputs": [],
   "source": [
    "scaled_close = scaled_close[~np.isnan(scaled_close)]"
   ]
  },
  {
   "cell_type": "code",
   "execution_count": 49,
   "metadata": {},
   "outputs": [],
   "source": [
    "scaled_close = scaled_close.reshape(-1, 1)"
   ]
  },
  {
   "cell_type": "code",
   "execution_count": 50,
   "metadata": {},
   "outputs": [
    {
     "data": {
      "text/plain": [
       "False"
      ]
     },
     "execution_count": 50,
     "metadata": {},
     "output_type": "execute_result"
    }
   ],
   "source": [
    "np.isnan(scaled_close).any()"
   ]
  },
  {
   "cell_type": "code",
   "execution_count": 51,
   "metadata": {},
   "outputs": [],
   "source": [
    "X_train, y_train, X_test, y_test = preprocess(scaled_close, SEQ_LEN, train_split = 0.90)"
   ]
  },
  {
   "cell_type": "markdown",
   "metadata": {},
   "source": [
    "### Model"
   ]
  },
  {
   "cell_type": "code",
   "execution_count": 52,
   "metadata": {},
   "outputs": [],
   "source": [
    "tfd = tfp.distributions\n",
    "\n",
    "def my_dist(params): #B\n",
    "  return tfd.Normal(loc=params, scale=1)"
   ]
  },
  {
   "cell_type": "code",
   "execution_count": 53,
   "metadata": {},
   "outputs": [],
   "source": [
    "DROPOUT = 0.2\n",
    "WINDOW_SIZE = SEQ_LEN - 1\n",
    "\n",
    "visible = keras.layers.Input(shape = (WINDOW_SIZE, X_train.shape[-1]))\n",
    "\n",
    "lstm1 = Bidirectional(LSTM(WINDOW_SIZE, return_sequences=True),  input_shape=(WINDOW_SIZE, X_train.shape[-1]))(visible)\n",
    "dropout1 = Dropout(rate=DROPOUT)(lstm1)\n",
    "lstm2 = Bidirectional(LSTM((WINDOW_SIZE * 2), return_sequences=True))(dropout1)\n",
    "dropout2 = Dropout(rate=DROPOUT)(lstm2)\n",
    "lstm3 = Bidirectional(LSTM(WINDOW_SIZE, return_sequences=False))(dropout2)\n",
    "\n",
    "prob1 = tfp.layers.DistributionLambda(my_dist)(lstm3)\n",
    "dense1 = Dense(units=16)(lstm3)\n",
    "\n",
    "merge = concatenate([dense1, prob1])\n",
    "dense2 = Dense(units=16)(merge)\n",
    "output = Dense(units=1, activation='linear')(merge)\n",
    "\n",
    "model = keras.models.Model(inputs=visible, outputs=output)"
   ]
  },
  {
   "cell_type": "markdown",
   "metadata": {},
   "source": [
    "# Train"
   ]
  },
  {
   "cell_type": "code",
   "execution_count": 54,
   "metadata": {},
   "outputs": [
    {
     "data": {
      "image/png": "[encoded data removed]",
      "text/plain": [
       "<IPython.core.display.Image object>"
      ]
     },
     "execution_count": 54,
     "metadata": {},
     "output_type": "execute_result"
    }
   ],
   "source": [
    "def f(y, mu, sigma=20):\n",
    "  return (1/(sigma * tf.math.sqrt(2 * np.pi)) * tf.math.exp( - (y - mu)**2 / (2 * sigma**2)))\n",
    "\n",
    "def my_loss(y_true,y_pred): #A\n",
    "  loss = -tf.reduce_sum(tf.math.log(f(y_true,y_pred)))\n",
    "  return loss\n",
    "\n",
    "model.compile(\n",
    "    loss = my_loss,\n",
    "    optimizer='adam',\n",
    "    metrics = ['MSE']\n",
    ")\n",
    "\n",
    "plot_model(model, to_file='model_plot_PNN.png', show_shapes=False, show_dtype=False, show_layer_names=False)"
   ]
  },
  {
   "cell_type": "code",
   "execution_count": 55,
   "metadata": {
    "scrolled": false
   },
   "outputs": [
    {
     "name": "stdout",
     "output_type": "stream",
     "text": [
      "Epoch 1/50\n",
      "37/37 [==============================] - 13s 130ms/step - loss: 248.9600 - MSE: 1.3487 - val_loss: 246.1996 - val_MSE: 1.0930\n",
      "Epoch 2/50\n",
      "37/37 [==============================] - 2s 56ms/step - loss: 248.9256 - MSE: 0.9164 - val_loss: 246.1592 - val_MSE: 0.5691\n",
      "Epoch 3/50\n",
      "37/37 [==============================] - 2s 56ms/step - loss: 248.8983 - MSE: 0.5743 - val_loss: 246.1493 - val_MSE: 0.4405\n",
      "Epoch 4/50\n",
      "37/37 [==============================] - 2s 56ms/step - loss: 248.8790 - MSE: 0.3323 - val_loss: 246.1318 - val_MSE: 0.2212\n",
      "Epoch 5/50\n",
      "37/37 [==============================] - 2s 58ms/step - loss: 248.8687 - MSE: 0.2020 - val_loss: 246.1237 - val_MSE: 0.1179\n",
      "Epoch 6/50\n",
      "37/37 [==============================] - 2s 58ms/step - loss: 248.8615 - MSE: 0.1126 - val_loss: 246.1210 - val_MSE: 0.0860\n",
      "Epoch 7/50\n",
      "37/37 [==============================] - 2s 57ms/step - loss: 248.8569 - MSE: 0.0537 - val_loss: 246.1173 - val_MSE: 0.0390\n",
      "Epoch 8/50\n",
      "37/37 [==============================] - 2s 57ms/step - loss: 248.8547 - MSE: 0.0257 - val_loss: 246.1159 - val_MSE: 0.0202\n",
      "Epoch 9/50\n",
      "37/37 [==============================] - 2s 57ms/step - loss: 248.8537 - MSE: 0.0131 - val_loss: 246.1150 - val_MSE: 0.0086\n",
      "Epoch 10/50\n",
      "37/37 [==============================] - 2s 57ms/step - loss: 248.8531 - MSE: 0.0060 - val_loss: 246.1147 - val_MSE: 0.0047\n",
      "Epoch 11/50\n",
      "37/37 [==============================] - 2s 57ms/step - loss: 248.8528 - MSE: 0.0030 - val_loss: 246.1145 - val_MSE: 0.0031\n",
      "Epoch 12/50\n",
      "37/37 [==============================] - 2s 58ms/step - loss: 248.8528 - MSE: 0.0013 - val_loss: 246.1144 - val_MSE: 0.0011\n",
      "Epoch 13/50\n",
      "37/37 [==============================] - 2s 58ms/step - loss: 248.8527 - MSE: 5.2993e-04 - val_loss: 246.1143 - val_MSE: 5.0626e-04\n",
      "Epoch 14/50\n",
      "37/37 [==============================] - 2s 60ms/step - loss: 248.8527 - MSE: 2.4554e-04 - val_loss: 246.1143 - val_MSE: 1.9190e-04\n",
      "Epoch 15/50\n",
      "37/37 [==============================] - 2s 58ms/step - loss: 248.8527 - MSE: 1.3370e-04 - val_loss: 246.1143 - val_MSE: 1.4603e-04\n",
      "Epoch 16/50\n",
      "37/37 [==============================] - 2s 57ms/step - loss: 248.8527 - MSE: 1.0460e-04 - val_loss: 246.1143 - val_MSE: 1.4562e-04\n",
      "Epoch 17/50\n",
      "37/37 [==============================] - 2s 58ms/step - loss: 248.8527 - MSE: 1.8790e-04 - val_loss: 246.1143 - val_MSE: 3.2089e-04\n",
      "Epoch 18/50\n",
      "37/37 [==============================] - 2s 56ms/step - loss: 248.8527 - MSE: 4.2363e-04 - val_loss: 246.1144 - val_MSE: 0.0013\n",
      "Epoch 19/50\n",
      "37/37 [==============================] - 2s 58ms/step - loss: 248.8527 - MSE: 1.9368e-04 - val_loss: 246.1143 - val_MSE: 4.1588e-04\n",
      "Epoch 20/50\n",
      "37/37 [==============================] - 2s 57ms/step - loss: 248.8527 - MSE: 1.2742e-04 - val_loss: 246.1143 - val_MSE: 1.8988e-04\n",
      "Epoch 21/50\n",
      "37/37 [==============================] - 2s 58ms/step - loss: 248.8527 - MSE: 7.9421e-05 - val_loss: 246.1143 - val_MSE: 1.2890e-04\n",
      "Epoch 22/50\n",
      "37/37 [==============================] - 2s 56ms/step - loss: 248.8527 - MSE: 9.1002e-05 - val_loss: 246.1143 - val_MSE: 1.1593e-04\n",
      "Epoch 23/50\n",
      "37/37 [==============================] - 2s 57ms/step - loss: 248.8527 - MSE: 1.6820e-04 - val_loss: 246.1143 - val_MSE: 1.4268e-04\n",
      "Epoch 24/50\n",
      "37/37 [==============================] - 2s 57ms/step - loss: 248.8527 - MSE: 4.9459e-04 - val_loss: 246.1143 - val_MSE: 1.0709e-04\n",
      "Epoch 25/50\n",
      "37/37 [==============================] - 2s 57ms/step - loss: 248.8528 - MSE: 5.3641e-04 - val_loss: 246.1143 - val_MSE: 3.3384e-04\n",
      "Epoch 26/50\n",
      "37/37 [==============================] - 2s 56ms/step - loss: 248.8527 - MSE: 2.3066e-04 - val_loss: 246.1143 - val_MSE: 1.0641e-04\n",
      "Epoch 27/50\n",
      "37/37 [==============================] - 2s 57ms/step - loss: 248.8527 - MSE: 2.6326e-04 - val_loss: 246.1143 - val_MSE: 9.3571e-05\n",
      "Epoch 28/50\n",
      "37/37 [==============================] - 2s 59ms/step - loss: 248.8527 - MSE: 3.0413e-04 - val_loss: 246.1143 - val_MSE: 1.1380e-04\n",
      "Epoch 29/50\n",
      "37/37 [==============================] - 2s 57ms/step - loss: 248.8527 - MSE: 3.1433e-04 - val_loss: 246.1143 - val_MSE: 1.7123e-04\n",
      "Epoch 30/50\n",
      "37/37 [==============================] - 2s 57ms/step - loss: 248.8527 - MSE: 2.0572e-04 - val_loss: 246.1143 - val_MSE: 1.1865e-04\n",
      "Epoch 31/50\n",
      "37/37 [==============================] - 2s 57ms/step - loss: 248.8527 - MSE: 2.1054e-04 - val_loss: 246.1143 - val_MSE: 1.3051e-04\n",
      "Epoch 32/50\n",
      "37/37 [==============================] - 2s 57ms/step - loss: 248.8527 - MSE: 1.6639e-04 - val_loss: 246.1143 - val_MSE: 1.0203e-04\n",
      "Epoch 33/50\n",
      "37/37 [==============================] - 2s 58ms/step - loss: 248.8527 - MSE: 1.6825e-04 - val_loss: 246.1143 - val_MSE: 1.0422e-04\n",
      "Epoch 34/50\n",
      "37/37 [==============================] - 2s 60ms/step - loss: 248.8527 - MSE: 1.5716e-04 - val_loss: 246.1143 - val_MSE: 1.0143e-04\n",
      "Epoch 35/50\n",
      "37/37 [==============================] - 2s 61ms/step - loss: 248.8527 - MSE: 1.6195e-04 - val_loss: 246.1143 - val_MSE: 9.1924e-05\n",
      "Epoch 36/50\n",
      "37/37 [==============================] - 2s 60ms/step - loss: 248.8527 - MSE: 1.5968e-04 - val_loss: 246.1143 - val_MSE: 1.0087e-04\n",
      "Epoch 37/50\n",
      "37/37 [==============================] - 2s 58ms/step - loss: 248.8527 - MSE: 1.4854e-04 - val_loss: 246.1143 - val_MSE: 9.0522e-05\n",
      "Epoch 38/50\n",
      "37/37 [==============================] - 2s 59ms/step - loss: 248.8527 - MSE: 1.4637e-04 - val_loss: 246.1143 - val_MSE: 9.1447e-05\n",
      "Epoch 39/50\n",
      "37/37 [==============================] - 2s 57ms/step - loss: 248.8527 - MSE: 1.5077e-04 - val_loss: 246.1143 - val_MSE: 8.2992e-05\n",
      "Epoch 40/50\n",
      "37/37 [==============================] - 2s 56ms/step - loss: 248.8527 - MSE: 1.6012e-04 - val_loss: 246.1143 - val_MSE: 8.4710e-05\n",
      "Epoch 41/50\n",
      "37/37 [==============================] - 2s 57ms/step - loss: 248.8527 - MSE: 1.7592e-04 - val_loss: 246.1143 - val_MSE: 8.3023e-05\n",
      "Epoch 42/50\n",
      "37/37 [==============================] - 2s 58ms/step - loss: 248.8527 - MSE: 1.7971e-04 - val_loss: 246.1143 - val_MSE: 9.0689e-05\n",
      "Epoch 43/50\n",
      "37/37 [==============================] - 2s 58ms/step - loss: 248.8527 - MSE: 1.7697e-04 - val_loss: 246.1143 - val_MSE: 8.9167e-05\n",
      "Epoch 44/50\n",
      "37/37 [==============================] - 2s 57ms/step - loss: 248.8527 - MSE: 1.7411e-04 - val_loss: 246.1143 - val_MSE: 9.1651e-05\n",
      "Epoch 45/50\n",
      "37/37 [==============================] - 2s 57ms/step - loss: 248.8527 - MSE: 1.8146e-04 - val_loss: 246.1143 - val_MSE: 9.3930e-05\n",
      "Epoch 46/50\n",
      "37/37 [==============================] - 2s 58ms/step - loss: 248.8527 - MSE: 1.8154e-04 - val_loss: 246.1143 - val_MSE: 1.0205e-04\n",
      "Epoch 47/50\n",
      "37/37 [==============================] - 2s 57ms/step - loss: 248.8527 - MSE: 1.7263e-04 - val_loss: 246.1143 - val_MSE: 8.8141e-05\n",
      "Epoch 48/50\n",
      "37/37 [==============================] - 2s 58ms/step - loss: 248.8527 - MSE: 1.6194e-04 - val_loss: 246.1143 - val_MSE: 7.8422e-05\n",
      "Epoch 49/50\n",
      "37/37 [==============================] - 2s 56ms/step - loss: 248.8527 - MSE: 1.6719e-04 - val_loss: 246.1143 - val_MSE: 8.5938e-05\n",
      "Epoch 50/50\n",
      "37/37 [==============================] - 2s 59ms/step - loss: 248.8527 - MSE: 1.8429e-04 - val_loss: 246.1143 - val_MSE: 8.5011e-05\n"
     ]
    }
   ],
   "source": [
    "BATCH_SIZE = 64\n",
    "\n",
    "history = model.fit(\n",
    "    X_train, \n",
    "    y_train, \n",
    "    epochs=50, \n",
    "    batch_size=BATCH_SIZE, \n",
    "    shuffle=False,\n",
    "    validation_split=0.1,\n",
    "    \n",
    ")"
   ]
  },
  {
   "cell_type": "markdown",
   "metadata": {},
   "source": [
    "# Evaluate"
   ]
  },
  {
   "cell_type": "code",
   "execution_count": 56,
   "metadata": {},
   "outputs": [
    {
     "name": "stdout",
     "output_type": "stream",
     "text": [
      "10/10 [==============================] - 0s 24ms/step - loss: 124.4602 - MSE: 0.0163\n"
     ]
    },
    {
     "data": {
      "text/plain": [
       "[124.4601821899414, 0.016347836703062057]"
      ]
     },
     "execution_count": 56,
     "metadata": {},
     "output_type": "execute_result"
    }
   ],
   "source": [
    "model.evaluate(X_test, y_test)"
   ]
  },
  {
   "cell_type": "code",
   "execution_count": 57,
   "metadata": {},
   "outputs": [
    {
     "data": {
      "image/png": "[encoded data removed]",
      "text/plain": [
       "<Figure size 432x288 with 1 Axes>"
      ]
     },
     "metadata": {
      "needs_background": "light"
     },
     "output_type": "display_data"
    }
   ],
   "source": [
    "plt.plot(history.history['loss'])\n",
    "plt.plot(history.history['val_loss'])\n",
    "plt.title('model loss')\n",
    "plt.ylabel('loss')\n",
    "plt.xlabel('epoch')\n",
    "plt.legend(['train', 'test'], loc='upper left')\n",
    "plt.show()"
   ]
  },
  {
   "cell_type": "code",
   "execution_count": 58,
   "metadata": {},
   "outputs": [
    {
     "data": {
      "image/png": "[encoded data removed]",
      "text/plain": [
       "<Figure size 432x288 with 1 Axes>"
      ]
     },
     "metadata": {
      "needs_background": "light"
     },
     "output_type": "display_data"
    }
   ],
   "source": [
    "y_hat = model.predict(X_test)\n",
    "\n",
    "y_test_inverse = scaler.inverse_transform(y_test)\n",
    "y_hat_inverse = scaler.inverse_transform(y_hat)\n",
    " \n",
    "plt.plot(y_test_inverse, label=\"Actual Price\", color='green')\n",
    "plt.plot(y_hat_inverse, label=\"Predicted Price\", color='red')\n",
    " \n",
    "plt.title('Price prediction')\n",
    "plt.xlabel('Time [days]')\n",
    "plt.ylabel('Price')\n",
    "plt.legend(loc='best')\n",
    " \n",
    "plt.show();"
   ]
  },
  {
   "cell_type": "markdown",
   "metadata": {},
   "source": [
    "# Ethereum"
   ]
  },
  {
   "cell_type": "code",
   "execution_count": 59,
   "metadata": {},
   "outputs": [],
   "source": [
    "df = pd.read_csv(\"./coin_Ethereum.csv\", parse_dates=['Date'])"
   ]
  },
  {
   "cell_type": "code",
   "execution_count": 60,
   "metadata": {},
   "outputs": [],
   "source": [
    "close_price = df.Close.values.reshape(-1, 1)\n",
    "scaled_close = scaler.fit_transform(close_price)"
   ]
  },
  {
   "cell_type": "code",
   "execution_count": 61,
   "metadata": {},
   "outputs": [
    {
     "data": {
      "text/plain": [
       "False"
      ]
     },
     "execution_count": 61,
     "metadata": {},
     "output_type": "execute_result"
    }
   ],
   "source": [
    "np.isnan(scaled_close).any()"
   ]
  },
  {
   "cell_type": "code",
   "execution_count": 62,
   "metadata": {},
   "outputs": [],
   "source": [
    "scaled_close = scaled_close[~np.isnan(scaled_close)]"
   ]
  },
  {
   "cell_type": "code",
   "execution_count": 63,
   "metadata": {},
   "outputs": [],
   "source": [
    "scaled_close = scaled_close.reshape(-1, 1)"
   ]
  },
  {
   "cell_type": "code",
   "execution_count": 64,
   "metadata": {},
   "outputs": [
    {
     "data": {
      "text/plain": [
       "False"
      ]
     },
     "execution_count": 64,
     "metadata": {},
     "output_type": "execute_result"
    }
   ],
   "source": [
    "np.isnan(scaled_close).any()"
   ]
  },
  {
   "cell_type": "code",
   "execution_count": 65,
   "metadata": {},
   "outputs": [
    {
     "data": {
      "text/plain": [
       "(206, 99, 1)"
      ]
     },
     "execution_count": 65,
     "metadata": {},
     "output_type": "execute_result"
    }
   ],
   "source": [
    "X_train, y_train, X_test, y_test = preprocess(scaled_close, SEQ_LEN, train_split = 0.90)\n",
    "X_test.shape"
   ]
  },
  {
   "cell_type": "code",
   "execution_count": 66,
   "metadata": {},
   "outputs": [],
   "source": [
    "DROPOUT = 0.2\n",
    "WINDOW_SIZE = SEQ_LEN - 1\n",
    "\n",
    "visible = keras.layers.Input(shape = (WINDOW_SIZE, X_train.shape[-1]))\n",
    "\n",
    "lstm1 = Bidirectional(LSTM(WINDOW_SIZE, return_sequences=True),  input_shape=(WINDOW_SIZE, X_train.shape[-1]))(visible)\n",
    "dropout1 = Dropout(rate=DROPOUT)(lstm1)\n",
    "lstm2 = Bidirectional(LSTM((WINDOW_SIZE * 2), return_sequences=True))(dropout1)\n",
    "dropout2 = Dropout(rate=DROPOUT)(lstm2)\n",
    "lstm3 = Bidirectional(LSTM(WINDOW_SIZE, return_sequences=False))(dropout2)\n",
    "\n",
    "prob1 = tfp.layers.DistributionLambda(my_dist)(lstm3)\n",
    "dense1 = Dense(units=16)(lstm3)\n",
    "\n",
    "merge = concatenate([dense1, prob1])\n",
    "dense2 = Dense(units=16)(merge)\n",
    "output = Dense(units=1, activation='linear')(merge)\n",
    "\n",
    "model = keras.models.Model(inputs=visible, outputs=output)"
   ]
  },
  {
   "cell_type": "code",
   "execution_count": 67,
   "metadata": {},
   "outputs": [],
   "source": [
    "model.compile(\n",
    "    loss = my_loss,\n",
    "    optimizer='adam',\n",
    "    metrics = ['MSE']\n",
    ")"
   ]
  },
  {
   "cell_type": "code",
   "execution_count": 68,
   "metadata": {
    "scrolled": false
   },
   "outputs": [
    {
     "name": "stdout",
     "output_type": "stream",
     "text": [
      "Epoch 1/50\n",
      "27/27 [==============================] - 12s 129ms/step - loss: 250.1217 - MSE: 1.8269 - val_loss: 243.3180 - val_MSE: 1.3234\n",
      "Epoch 2/50\n",
      "27/27 [==============================] - 2s 57ms/step - loss: 250.0898 - MSE: 1.4293 - val_loss: 243.3091 - val_MSE: 1.2155\n",
      "Epoch 3/50\n",
      "27/27 [==============================] - 2s 56ms/step - loss: 250.0579 - MSE: 1.0315 - val_loss: 243.2833 - val_MSE: 0.8792\n",
      "Epoch 4/50\n",
      "27/27 [==============================] - 2s 61ms/step - loss: 250.0397 - MSE: 0.8017 - val_loss: 243.2808 - val_MSE: 0.8425\n",
      "Epoch 5/50\n",
      "27/27 [==============================] - 2s 61ms/step - loss: 250.0231 - MSE: 0.5954 - val_loss: 243.2550 - val_MSE: 0.5220\n",
      "Epoch 6/50\n",
      "27/27 [==============================] - 2s 59ms/step - loss: 250.0098 - MSE: 0.4269 - val_loss: 243.2409 - val_MSE: 0.3400\n",
      "Epoch 7/50\n",
      "27/27 [==============================] - 2s 59ms/step - loss: 249.9992 - MSE: 0.2939 - val_loss: 243.2318 - val_MSE: 0.2215\n",
      "Epoch 8/50\n",
      "27/27 [==============================] - 2s 57ms/step - loss: 249.9913 - MSE: 0.1952 - val_loss: 243.2250 - val_MSE: 0.1321\n",
      "Epoch 9/50\n",
      "27/27 [==============================] - 2s 60ms/step - loss: 249.9863 - MSE: 0.1330 - val_loss: 243.2215 - val_MSE: 0.0873\n",
      "Epoch 10/50\n",
      "27/27 [==============================] - 2s 57ms/step - loss: 249.9825 - MSE: 0.0853 - val_loss: 243.2199 - val_MSE: 0.0669\n",
      "Epoch 11/50\n",
      "27/27 [==============================] - 2s 57ms/step - loss: 249.9798 - MSE: 0.0521 - val_loss: 243.2182 - val_MSE: 0.0450\n",
      "Epoch 12/50\n",
      "27/27 [==============================] - 2s 57ms/step - loss: 249.9785 - MSE: 0.0353 - val_loss: 243.2170 - val_MSE: 0.0299\n",
      "Epoch 13/50\n",
      "27/27 [==============================] - 2s 57ms/step - loss: 249.9775 - MSE: 0.0226 - val_loss: 243.2161 - val_MSE: 0.0181\n",
      "Epoch 14/50\n",
      "27/27 [==============================] - 2s 60ms/step - loss: 249.9767 - MSE: 0.0132 - val_loss: 243.2156 - val_MSE: 0.0109\n",
      "Epoch 15/50\n",
      "27/27 [==============================] - 2s 56ms/step - loss: 249.9763 - MSE: 0.0083 - val_loss: 243.2153 - val_MSE: 0.0072\n",
      "Epoch 16/50\n",
      "27/27 [==============================] - 2s 56ms/step - loss: 249.9760 - MSE: 0.0052 - val_loss: 243.2150 - val_MSE: 0.0035\n",
      "Epoch 17/50\n",
      "27/27 [==============================] - 2s 57ms/step - loss: 249.9759 - MSE: 0.0033 - val_loss: 243.2150 - val_MSE: 0.0038\n",
      "Epoch 18/50\n",
      "27/27 [==============================] - 2s 57ms/step - loss: 249.9759 - MSE: 0.0031 - val_loss: 243.2148 - val_MSE: 0.0010\n",
      "Epoch 19/50\n",
      "27/27 [==============================] - 2s 57ms/step - loss: 249.9758 - MSE: 0.0011 - val_loss: 243.2148 - val_MSE: 6.7335e-04\n",
      "Epoch 20/50\n",
      "27/27 [==============================] - 2s 57ms/step - loss: 249.9758 - MSE: 6.7286e-04 - val_loss: 243.2148 - val_MSE: 6.5446e-04\n",
      "Epoch 21/50\n",
      "27/27 [==============================] - 2s 57ms/step - loss: 249.9758 - MSE: 6.3863e-04 - val_loss: 243.2148 - val_MSE: 4.7260e-04\n",
      "Epoch 22/50\n",
      "27/27 [==============================] - 2s 57ms/step - loss: 249.9758 - MSE: 3.5608e-04 - val_loss: 243.2148 - val_MSE: 6.4044e-04\n",
      "Epoch 23/50\n",
      "27/27 [==============================] - 2s 56ms/step - loss: 249.9758 - MSE: 6.3766e-04 - val_loss: 243.2147 - val_MSE: 4.3085e-04\n",
      "Epoch 24/50\n",
      "27/27 [==============================] - 2s 57ms/step - loss: 249.9758 - MSE: 3.1311e-04 - val_loss: 243.2148 - val_MSE: 7.2425e-04\n",
      "Epoch 25/50\n",
      "27/27 [==============================] - 2s 57ms/step - loss: 249.9758 - MSE: 7.3758e-04 - val_loss: 243.2147 - val_MSE: 2.6747e-04\n",
      "Epoch 26/50\n",
      "27/27 [==============================] - 2s 56ms/step - loss: 249.9758 - MSE: 2.3553e-04 - val_loss: 243.2148 - val_MSE: 4.6950e-04\n",
      "Epoch 27/50\n",
      "27/27 [==============================] - 2s 56ms/step - loss: 249.9758 - MSE: 5.2538e-04 - val_loss: 243.2147 - val_MSE: 2.6324e-04\n",
      "Epoch 28/50\n",
      "27/27 [==============================] - 2s 56ms/step - loss: 249.9758 - MSE: 2.2811e-04 - val_loss: 243.2147 - val_MSE: 4.1288e-04\n",
      "Epoch 29/50\n",
      "27/27 [==============================] - 2s 57ms/step - loss: 249.9758 - MSE: 4.7606e-04 - val_loss: 243.2147 - val_MSE: 2.4334e-04\n",
      "Epoch 30/50\n",
      "27/27 [==============================] - 2s 55ms/step - loss: 249.9758 - MSE: 2.2502e-04 - val_loss: 243.2147 - val_MSE: 3.9016e-04\n",
      "Epoch 31/50\n",
      "27/27 [==============================] - 2s 57ms/step - loss: 249.9758 - MSE: 4.4900e-04 - val_loss: 243.2147 - val_MSE: 2.2999e-04\n",
      "Epoch 32/50\n",
      "27/27 [==============================] - 2s 56ms/step - loss: 249.9758 - MSE: 2.1759e-04 - val_loss: 243.2147 - val_MSE: 3.3371e-04\n",
      "Epoch 33/50\n",
      "27/27 [==============================] - 2s 57ms/step - loss: 249.9758 - MSE: 4.0258e-04 - val_loss: 243.2147 - val_MSE: 2.1157e-04\n",
      "Epoch 34/50\n",
      "27/27 [==============================] - 2s 56ms/step - loss: 249.9758 - MSE: 2.1412e-04 - val_loss: 243.2147 - val_MSE: 3.4629e-04\n",
      "Epoch 35/50\n",
      "27/27 [==============================] - 2s 56ms/step - loss: 249.9758 - MSE: 3.7852e-04 - val_loss: 243.2147 - val_MSE: 2.3428e-04\n",
      "Epoch 36/50\n",
      "27/27 [==============================] - 2s 57ms/step - loss: 249.9758 - MSE: 2.1693e-04 - val_loss: 243.2147 - val_MSE: 3.5978e-04\n",
      "Epoch 37/50\n",
      "27/27 [==============================] - 2s 56ms/step - loss: 249.9758 - MSE: 4.2667e-04 - val_loss: 243.2147 - val_MSE: 2.2572e-04\n",
      "Epoch 38/50\n",
      "27/27 [==============================] - 2s 56ms/step - loss: 249.9758 - MSE: 2.1265e-04 - val_loss: 243.2147 - val_MSE: 3.1843e-04\n",
      "Epoch 39/50\n",
      "27/27 [==============================] - 2s 57ms/step - loss: 249.9758 - MSE: 4.0215e-04 - val_loss: 243.2147 - val_MSE: 2.2995e-04\n",
      "Epoch 40/50\n",
      "27/27 [==============================] - 2s 58ms/step - loss: 249.9758 - MSE: 2.2550e-04 - val_loss: 243.2147 - val_MSE: 3.3567e-04\n",
      "Epoch 41/50\n",
      "27/27 [==============================] - 2s 57ms/step - loss: 249.9758 - MSE: 4.1931e-04 - val_loss: 243.2147 - val_MSE: 2.3555e-04\n",
      "Epoch 42/50\n",
      "27/27 [==============================] - 2s 56ms/step - loss: 249.9758 - MSE: 2.2998e-04 - val_loss: 243.2147 - val_MSE: 3.5764e-04\n",
      "Epoch 43/50\n",
      "27/27 [==============================] - 1s 56ms/step - loss: 249.9758 - MSE: 4.4315e-04 - val_loss: 243.2147 - val_MSE: 2.1740e-04\n",
      "Epoch 44/50\n",
      "27/27 [==============================] - 2s 57ms/step - loss: 249.9758 - MSE: 2.2214e-04 - val_loss: 243.2147 - val_MSE: 3.0698e-04\n",
      "Epoch 45/50\n",
      "27/27 [==============================] - 2s 59ms/step - loss: 249.9758 - MSE: 3.9309e-04 - val_loss: 243.2147 - val_MSE: 2.0299e-04\n",
      "Epoch 46/50\n",
      "27/27 [==============================] - 2s 58ms/step - loss: 249.9758 - MSE: 2.2322e-04 - val_loss: 243.2147 - val_MSE: 2.7222e-04\n",
      "Epoch 47/50\n",
      "27/27 [==============================] - 2s 57ms/step - loss: 249.9758 - MSE: 3.7402e-04 - val_loss: 243.2147 - val_MSE: 2.0822e-04\n",
      "Epoch 48/50\n",
      "27/27 [==============================] - 2s 57ms/step - loss: 249.9758 - MSE: 2.2628e-04 - val_loss: 243.2147 - val_MSE: 2.7604e-04\n",
      "Epoch 49/50\n",
      "27/27 [==============================] - 2s 56ms/step - loss: 249.9758 - MSE: 3.8601e-04 - val_loss: 243.2147 - val_MSE: 2.4383e-04\n",
      "Epoch 50/50\n",
      "27/27 [==============================] - 2s 57ms/step - loss: 249.9758 - MSE: 2.2998e-04 - val_loss: 243.2147 - val_MSE: 2.8466e-04\n"
     ]
    }
   ],
   "source": [
    "BATCH_SIZE = 64\n",
    "\n",
    "history = model.fit(\n",
    "    X_train, \n",
    "    y_train, \n",
    "    epochs=50, \n",
    "    batch_size=BATCH_SIZE, \n",
    "    shuffle=False,\n",
    "    validation_split=0.1,\n",
    ")"
   ]
  },
  {
   "cell_type": "code",
   "execution_count": 69,
   "metadata": {},
   "outputs": [
    {
     "name": "stdout",
     "output_type": "stream",
     "text": [
      "7/7 [==============================] - 0s 20ms/step - loss: 120.4823 - MSE: 0.0428\n"
     ]
    },
    {
     "data": {
      "text/plain": [
       "[120.48230743408203, 0.04276713728904724]"
      ]
     },
     "execution_count": 69,
     "metadata": {},
     "output_type": "execute_result"
    }
   ],
   "source": [
    "model.evaluate(X_test, y_test)"
   ]
  },
  {
   "cell_type": "code",
   "execution_count": 70,
   "metadata": {},
   "outputs": [
    {
     "data": {
      "image/png": "[encoded data removed]",
      "text/plain": [
       "<Figure size 432x288 with 1 Axes>"
      ]
     },
     "metadata": {
      "needs_background": "light"
     },
     "output_type": "display_data"
    }
   ],
   "source": [
    "plt.plot(history.history['loss'])\n",
    "plt.plot(history.history['val_loss'])\n",
    "plt.title('model loss')\n",
    "plt.ylabel('loss')\n",
    "plt.xlabel('epoch')\n",
    "plt.legend(['train', 'test'], loc='upper left')\n",
    "plt.show()"
   ]
  },
  {
   "cell_type": "code",
   "execution_count": 71,
   "metadata": {},
   "outputs": [
    {
     "data": {
      "image/png": "[encoded data removed]",
      "text/plain": [
       "<Figure size 432x288 with 1 Axes>"
      ]
     },
     "metadata": {
      "needs_background": "light"
     },
     "output_type": "display_data"
    }
   ],
   "source": [
    "y_hat = model.predict(X_test)\n",
    "\n",
    "y_test_inverse = scaler.inverse_transform(y_test)\n",
    "y_hat_inverse = scaler.inverse_transform(y_hat)\n",
    " \n",
    "plt.plot(y_test_inverse, label=\"Actual Price\", color='green')\n",
    "plt.plot(y_hat_inverse, label=\"Predicted Price\", color='red')\n",
    " \n",
    "plt.title('Ethereum price prediction')\n",
    "plt.xlabel('Time [days]')\n",
    "plt.ylabel('Price')\n",
    "plt.legend(loc='best')\n",
    " \n",
    "plt.show();"
   ]
  },
  {
   "cell_type": "markdown",
   "metadata": {},
   "source": [
    "# Cardano"
   ]
  },
  {
   "cell_type": "code",
   "execution_count": 72,
   "metadata": {},
   "outputs": [],
   "source": [
    "df = pd.read_csv(\"./coin_Cardano.csv\", parse_dates=['Date'])"
   ]
  },
  {
   "cell_type": "code",
   "execution_count": 73,
   "metadata": {},
   "outputs": [
    {
     "data": {
      "text/plain": [
       "(1374, 1)"
      ]
     },
     "execution_count": 73,
     "metadata": {},
     "output_type": "execute_result"
    }
   ],
   "source": [
    "close_price = df.Close.values.reshape(-1, 1)\n",
    "scaled_close = scaler.fit_transform(close_price)\n",
    "scaled_close.shape"
   ]
  },
  {
   "cell_type": "code",
   "execution_count": 74,
   "metadata": {},
   "outputs": [
    {
     "data": {
      "text/plain": [
       "False"
      ]
     },
     "execution_count": 74,
     "metadata": {},
     "output_type": "execute_result"
    }
   ],
   "source": [
    "np.isnan(scaled_close).any()\n",
    "scaled_close = scaled_close[~np.isnan(scaled_close)]\n",
    "scaled_close = scaled_close.reshape(-1, 1)\n",
    "np.isnan(scaled_close).any()"
   ]
  },
  {
   "cell_type": "code",
   "execution_count": 75,
   "metadata": {},
   "outputs": [
    {
     "data": {
      "text/plain": [
       "(128, 99, 1)"
      ]
     },
     "execution_count": 75,
     "metadata": {},
     "output_type": "execute_result"
    }
   ],
   "source": [
    "X_train, y_train, X_test, y_test = preprocess(scaled_close, SEQ_LEN, train_split = 0.90)\n",
    "X_test.shape"
   ]
  },
  {
   "cell_type": "code",
   "execution_count": 76,
   "metadata": {},
   "outputs": [],
   "source": [
    "DROPOUT = 0.2\n",
    "WINDOW_SIZE = SEQ_LEN - 1\n",
    "\n",
    "visible = keras.layers.Input(shape = (WINDOW_SIZE, X_train.shape[-1]))\n",
    "\n",
    "lstm1 = Bidirectional(LSTM(WINDOW_SIZE, return_sequences=True),  input_shape=(WINDOW_SIZE, X_train.shape[-1]))(visible)\n",
    "dropout1 = Dropout(rate=DROPOUT)(lstm1)\n",
    "lstm2 = Bidirectional(LSTM((WINDOW_SIZE * 2), return_sequences=True))(dropout1)\n",
    "dropout2 = Dropout(rate=DROPOUT)(lstm2)\n",
    "lstm3 = Bidirectional(LSTM(WINDOW_SIZE, return_sequences=False))(dropout2)\n",
    "\n",
    "prob1 = tfp.layers.DistributionLambda(my_dist)(lstm3)\n",
    "dense1 = Dense(units=16)(lstm3)\n",
    "\n",
    "merge = concatenate([dense1, prob1])\n",
    "dense2 = Dense(units=16)(merge)\n",
    "output = Dense(units=1, activation='linear')(merge)\n",
    "\n",
    "model = keras.models.Model(inputs=visible, outputs=output)"
   ]
  },
  {
   "cell_type": "code",
   "execution_count": 77,
   "metadata": {},
   "outputs": [],
   "source": [
    "model.compile(\n",
    "    loss = my_loss,\n",
    "    optimizer='adam',\n",
    "    metrics = ['MSE']\n",
    ")"
   ]
  },
  {
   "cell_type": "code",
   "execution_count": 78,
   "metadata": {},
   "outputs": [
    {
     "name": "stdout",
     "output_type": "stream",
     "text": [
      "Epoch 1/50\n",
      "17/17 [==============================] - 11s 168ms/step - loss: 249.1588 - MSE: 1.6949 - val_loss: 228.1105 - val_MSE: 1.9257\n",
      "Epoch 2/50\n",
      "17/17 [==============================] - 1s 58ms/step - loss: 249.1436 - MSE: 1.5067 - val_loss: 228.0885 - val_MSE: 1.6144\n",
      "Epoch 3/50\n",
      "17/17 [==============================] - 1s 56ms/step - loss: 249.1209 - MSE: 1.2277 - val_loss: 228.0589 - val_MSE: 1.2163\n",
      "Epoch 4/50\n",
      "17/17 [==============================] - 1s 57ms/step - loss: 249.1098 - MSE: 1.0759 - val_loss: 228.0605 - val_MSE: 1.2361\n",
      "Epoch 5/50\n",
      "17/17 [==============================] - 1s 57ms/step - loss: 249.0945 - MSE: 0.8842 - val_loss: 228.0294 - val_MSE: 0.8130\n",
      "Epoch 6/50\n",
      "17/17 [==============================] - 1s 56ms/step - loss: 249.0804 - MSE: 0.7113 - val_loss: 228.0174 - val_MSE: 0.6571\n",
      "Epoch 7/50\n",
      "17/17 [==============================] - 1s 57ms/step - loss: 249.0754 - MSE: 0.6451 - val_loss: 228.0072 - val_MSE: 0.5142\n",
      "Epoch 8/50\n",
      "17/17 [==============================] - 1s 57ms/step - loss: 249.0638 - MSE: 0.5012 - val_loss: 227.9971 - val_MSE: 0.3764\n",
      "Epoch 9/50\n",
      "17/17 [==============================] - 1s 58ms/step - loss: 249.0532 - MSE: 0.3671 - val_loss: 227.9878 - val_MSE: 0.2400\n",
      "Epoch 10/50\n",
      "17/17 [==============================] - 1s 60ms/step - loss: 249.0495 - MSE: 0.3217 - val_loss: 227.9890 - val_MSE: 0.2565\n",
      "Epoch 11/50\n",
      "17/17 [==============================] - 1s 58ms/step - loss: 249.0438 - MSE: 0.2492 - val_loss: 227.9866 - val_MSE: 0.2238\n",
      "Epoch 12/50\n",
      "17/17 [==============================] - 1s 57ms/step - loss: 249.0383 - MSE: 0.1805 - val_loss: 227.9806 - val_MSE: 0.1439\n",
      "Epoch 13/50\n",
      "17/17 [==============================] - 1s 57ms/step - loss: 249.0361 - MSE: 0.1532 - val_loss: 227.9793 - val_MSE: 0.1269\n",
      "Epoch 14/50\n",
      "17/17 [==============================] - 1s 57ms/step - loss: 249.0329 - MSE: 0.1136 - val_loss: 227.9778 - val_MSE: 0.1081\n",
      "Epoch 15/50\n",
      "17/17 [==============================] - 1s 61ms/step - loss: 249.0311 - MSE: 0.0898 - val_loss: 227.9760 - val_MSE: 0.0822\n",
      "Epoch 16/50\n",
      "17/17 [==============================] - 1s 59ms/step - loss: 249.0292 - MSE: 0.0657 - val_loss: 227.9741 - val_MSE: 0.0577\n",
      "Epoch 17/50\n",
      "17/17 [==============================] - 1s 58ms/step - loss: 249.0279 - MSE: 0.0493 - val_loss: 227.9726 - val_MSE: 0.0358\n",
      "Epoch 18/50\n",
      "17/17 [==============================] - 1s 61ms/step - loss: 249.0269 - MSE: 0.0375 - val_loss: 227.9736 - val_MSE: 0.0522\n",
      "Epoch 19/50\n",
      "17/17 [==============================] - 1s 60ms/step - loss: 249.0261 - MSE: 0.0275 - val_loss: 227.9736 - val_MSE: 0.0533\n",
      "Epoch 20/50\n",
      "17/17 [==============================] - 1s 62ms/step - loss: 249.0255 - MSE: 0.0189 - val_loss: 227.9723 - val_MSE: 0.0331\n",
      "Epoch 21/50\n",
      "17/17 [==============================] - 1s 66ms/step - loss: 249.0251 - MSE: 0.0144 - val_loss: 227.9709 - val_MSE: 0.0128\n",
      "Epoch 22/50\n",
      "17/17 [==============================] - 1s 69ms/step - loss: 249.0248 - MSE: 0.0113 - val_loss: 227.9726 - val_MSE: 0.0387\n",
      "Epoch 23/50\n",
      "17/17 [==============================] - 1s 63ms/step - loss: 249.0247 - MSE: 0.0095 - val_loss: 227.9724 - val_MSE: 0.0365\n",
      "Epoch 24/50\n",
      "17/17 [==============================] - 1s 60ms/step - loss: 249.0245 - MSE: 0.0068 - val_loss: 227.9719 - val_MSE: 0.0293\n",
      "Epoch 25/50\n",
      "17/17 [==============================] - 1s 58ms/step - loss: 249.0244 - MSE: 0.0053 - val_loss: 227.9716 - val_MSE: 0.0245\n",
      "Epoch 26/50\n",
      "17/17 [==============================] - 1s 59ms/step - loss: 249.0243 - MSE: 0.0042 - val_loss: 227.9715 - val_MSE: 0.0229\n",
      "Epoch 27/50\n",
      "17/17 [==============================] - 1s 61ms/step - loss: 249.0242 - MSE: 0.0028 - val_loss: 227.9707 - val_MSE: 0.0098\n",
      "Epoch 28/50\n",
      "17/17 [==============================] - 1s 60ms/step - loss: 249.0241 - MSE: 0.0014 - val_loss: 227.9713 - val_MSE: 0.0196\n",
      "Epoch 29/50\n",
      "17/17 [==============================] - 1s 60ms/step - loss: 249.0241 - MSE: 0.0018 - val_loss: 227.9705 - val_MSE: 0.0079\n",
      "Epoch 30/50\n",
      "17/17 [==============================] - 1s 60ms/step - loss: 249.0240 - MSE: 7.0212e-04 - val_loss: 227.9703 - val_MSE: 0.0044\n",
      "Epoch 31/50\n",
      "17/17 [==============================] - 1s 58ms/step - loss: 249.0240 - MSE: 5.9439e-04 - val_loss: 227.9710 - val_MSE: 0.0161\n",
      "Epoch 32/50\n",
      "17/17 [==============================] - 1s 57ms/step - loss: 249.0241 - MSE: 0.0012 - val_loss: 227.9707 - val_MSE: 0.0104\n",
      "Epoch 33/50\n",
      "17/17 [==============================] - 1s 60ms/step - loss: 249.0240 - MSE: 4.1374e-04 - val_loss: 227.9702 - val_MSE: 0.0023\n",
      "Epoch 34/50\n",
      "17/17 [==============================] - 1s 58ms/step - loss: 249.0240 - MSE: 5.4814e-04 - val_loss: 227.9710 - val_MSE: 0.0162\n",
      "Epoch 35/50\n",
      "17/17 [==============================] - 1s 59ms/step - loss: 249.0241 - MSE: 0.0011 - val_loss: 227.9708 - val_MSE: 0.0123\n",
      "Epoch 36/50\n",
      "17/17 [==============================] - 1s 58ms/step - loss: 249.0240 - MSE: 5.2794e-04 - val_loss: 227.9702 - val_MSE: 0.0039\n",
      "Epoch 37/50\n",
      "17/17 [==============================] - 1s 59ms/step - loss: 249.0240 - MSE: 2.3166e-04 - val_loss: 227.9705 - val_MSE: 0.0071\n",
      "Epoch 38/50\n",
      "17/17 [==============================] - 1s 58ms/step - loss: 249.0240 - MSE: 2.0053e-04 - val_loss: 227.9703 - val_MSE: 0.0050\n",
      "Epoch 39/50\n",
      "17/17 [==============================] - 1s 60ms/step - loss: 249.0240 - MSE: 1.1683e-04 - val_loss: 227.9703 - val_MSE: 0.0044\n",
      "Epoch 40/50\n",
      "17/17 [==============================] - 1s 59ms/step - loss: 249.0240 - MSE: 1.0617e-04 - val_loss: 227.9703 - val_MSE: 0.0049\n",
      "Epoch 41/50\n",
      "17/17 [==============================] - 1s 61ms/step - loss: 249.0240 - MSE: 1.0330e-04 - val_loss: 227.9703 - val_MSE: 0.0045\n",
      "Epoch 42/50\n",
      "17/17 [==============================] - 1s 60ms/step - loss: 249.0240 - MSE: 1.0007e-04 - val_loss: 227.9703 - val_MSE: 0.0044\n",
      "Epoch 43/50\n",
      "17/17 [==============================] - 1s 61ms/step - loss: 249.0240 - MSE: 9.6341e-05 - val_loss: 227.9703 - val_MSE: 0.0042\n",
      "Epoch 44/50\n",
      "17/17 [==============================] - 1s 62ms/step - loss: 249.0240 - MSE: 9.2681e-05 - val_loss: 227.9703 - val_MSE: 0.0042\n",
      "Epoch 45/50\n",
      "17/17 [==============================] - 1s 59ms/step - loss: 249.0240 - MSE: 8.5176e-05 - val_loss: 227.9703 - val_MSE: 0.0040\n",
      "Epoch 46/50\n",
      "17/17 [==============================] - 1s 57ms/step - loss: 249.0240 - MSE: 8.4319e-05 - val_loss: 227.9703 - val_MSE: 0.0041\n",
      "Epoch 47/50\n",
      "17/17 [==============================] - 1s 57ms/step - loss: 249.0240 - MSE: 8.8705e-05 - val_loss: 227.9702 - val_MSE: 0.0038\n",
      "Epoch 48/50\n",
      "17/17 [==============================] - 1s 57ms/step - loss: 249.0240 - MSE: 8.4128e-05 - val_loss: 227.9702 - val_MSE: 0.0038\n",
      "Epoch 49/50\n",
      "17/17 [==============================] - 1s 58ms/step - loss: 249.0240 - MSE: 8.5421e-05 - val_loss: 227.9702 - val_MSE: 0.0037\n",
      "Epoch 50/50\n",
      "17/17 [==============================] - 1s 58ms/step - loss: 249.0240 - MSE: 8.0124e-05 - val_loss: 227.9702 - val_MSE: 0.0037\n"
     ]
    }
   ],
   "source": [
    "BATCH_SIZE = 64\n",
    "\n",
    "history = model.fit(\n",
    "    X_train, \n",
    "    y_train, \n",
    "    epochs=50, \n",
    "    batch_size=BATCH_SIZE, \n",
    "    shuffle=False,\n",
    "    validation_split=0.1,\n",
    ")"
   ]
  },
  {
   "cell_type": "code",
   "execution_count": 79,
   "metadata": {},
   "outputs": [
    {
     "name": "stdout",
     "output_type": "stream",
     "text": [
      "4/4 [==============================] - 2s 26ms/step - loss: 125.2707 - MSE: 0.0319\n"
     ]
    },
    {
     "data": {
      "text/plain": [
       "[125.27073669433594, 0.031875431537628174]"
      ]
     },
     "execution_count": 79,
     "metadata": {},
     "output_type": "execute_result"
    }
   ],
   "source": [
    "model.evaluate(X_test, y_test)"
   ]
  },
  {
   "cell_type": "code",
   "execution_count": 80,
   "metadata": {},
   "outputs": [
    {
     "data": {
      "image/png": "[encoded data removed]",
      "text/plain": [
       "<Figure size 432x288 with 1 Axes>"
      ]
     },
     "metadata": {
      "needs_background": "light"
     },
     "output_type": "display_data"
    }
   ],
   "source": [
    "plt.plot(history.history['loss'])\n",
    "plt.plot(history.history['val_loss'])\n",
    "plt.title('model loss')\n",
    "plt.ylabel('loss')\n",
    "plt.xlabel('epoch')\n",
    "plt.legend(['train', 'test'], loc='upper left')\n",
    "plt.show()"
   ]
  },
  {
   "cell_type": "code",
   "execution_count": 81,
   "metadata": {},
   "outputs": [
    {
     "data": {
      "image/png": "[encoded data removed]",
      "text/plain": [
       "<Figure size 432x288 with 1 Axes>"
      ]
     },
     "metadata": {
      "needs_background": "light"
     },
     "output_type": "display_data"
    }
   ],
   "source": [
    "y_hat = model.predict(X_test)\n",
    "\n",
    "y_test_inverse = scaler.inverse_transform(y_test)\n",
    "y_hat_inverse = scaler.inverse_transform(y_hat)\n",
    " \n",
    "plt.plot(y_test_inverse, label=\"Actual Price\", color='green')\n",
    "plt.plot(y_hat_inverse, label=\"Predicted Price\", color='red')\n",
    " \n",
    "plt.title('Cardano price prediction')\n",
    "plt.xlabel('Time [days]')\n",
    "plt.ylabel('Price')\n",
    "plt.legend(loc='best')\n",
    " \n",
    "plt.show();"
   ]
  },
  {
   "cell_type": "markdown",
   "metadata": {},
   "source": [
    "# Neural Prophet Model"
   ]
  },
  {
   "cell_type": "code",
   "execution_count": 87,
   "id": "403625e5",
   "metadata": {},
   "outputs": [
    {
     "data": {
      "text/html": [
       "<div>\n",
       "<style scoped>\n",
       "    .dataframe tbody tr th:only-of-type {\n",
       "        vertical-align: middle;\n",
       "    }\n",
       "\n",
       "    .dataframe tbody tr th {\n",
       "        vertical-align: top;\n",
       "    }\n",
       "\n",
       "    .dataframe thead th {\n",
       "        text-align: right;\n",
       "    }\n",
       "</style>\n",
       "<table border=\"1\" class=\"dataframe\">\n",
       "  <thead>\n",
       "    <tr style=\"text-align: right;\">\n",
       "      <th></th>\n",
       "      <th>SNo</th>\n",
       "      <th>Name</th>\n",
       "      <th>Symbol</th>\n",
       "      <th>Date</th>\n",
       "      <th>High</th>\n",
       "      <th>Low</th>\n",
       "      <th>Open</th>\n",
       "      <th>Close</th>\n",
       "      <th>Volume</th>\n",
       "      <th>Marketcap</th>\n",
       "    </tr>\n",
       "  </thead>\n",
       "  <tbody>\n",
       "    <tr>\n",
       "      <th>0</th>\n",
       "      <td>1</td>\n",
       "      <td>Bitcoin</td>\n",
       "      <td>BTC</td>\n",
       "      <td>2013-04-29 23:59:59</td>\n",
       "      <td>147.488007</td>\n",
       "      <td>134.000000</td>\n",
       "      <td>134.444000</td>\n",
       "      <td>144.539993</td>\n",
       "      <td>0.000000e+00</td>\n",
       "      <td>1.603769e+09</td>\n",
       "    </tr>\n",
       "    <tr>\n",
       "      <th>1</th>\n",
       "      <td>2</td>\n",
       "      <td>Bitcoin</td>\n",
       "      <td>BTC</td>\n",
       "      <td>2013-04-30 23:59:59</td>\n",
       "      <td>146.929993</td>\n",
       "      <td>134.050003</td>\n",
       "      <td>144.000000</td>\n",
       "      <td>139.000000</td>\n",
       "      <td>0.000000e+00</td>\n",
       "      <td>1.542813e+09</td>\n",
       "    </tr>\n",
       "    <tr>\n",
       "      <th>2</th>\n",
       "      <td>3</td>\n",
       "      <td>Bitcoin</td>\n",
       "      <td>BTC</td>\n",
       "      <td>2013-05-01 23:59:59</td>\n",
       "      <td>139.889999</td>\n",
       "      <td>107.720001</td>\n",
       "      <td>139.000000</td>\n",
       "      <td>116.989998</td>\n",
       "      <td>0.000000e+00</td>\n",
       "      <td>1.298955e+09</td>\n",
       "    </tr>\n",
       "    <tr>\n",
       "      <th>3</th>\n",
       "      <td>4</td>\n",
       "      <td>Bitcoin</td>\n",
       "      <td>BTC</td>\n",
       "      <td>2013-05-02 23:59:59</td>\n",
       "      <td>125.599998</td>\n",
       "      <td>92.281898</td>\n",
       "      <td>116.379997</td>\n",
       "      <td>105.209999</td>\n",
       "      <td>0.000000e+00</td>\n",
       "      <td>1.168517e+09</td>\n",
       "    </tr>\n",
       "    <tr>\n",
       "      <th>4</th>\n",
       "      <td>5</td>\n",
       "      <td>Bitcoin</td>\n",
       "      <td>BTC</td>\n",
       "      <td>2013-05-03 23:59:59</td>\n",
       "      <td>108.127998</td>\n",
       "      <td>79.099998</td>\n",
       "      <td>106.250000</td>\n",
       "      <td>97.750000</td>\n",
       "      <td>0.000000e+00</td>\n",
       "      <td>1.085995e+09</td>\n",
       "    </tr>\n",
       "    <tr>\n",
       "      <th>...</th>\n",
       "      <td>...</td>\n",
       "      <td>...</td>\n",
       "      <td>...</td>\n",
       "      <td>...</td>\n",
       "      <td>...</td>\n",
       "      <td>...</td>\n",
       "      <td>...</td>\n",
       "      <td>...</td>\n",
       "      <td>...</td>\n",
       "      <td>...</td>\n",
       "    </tr>\n",
       "    <tr>\n",
       "      <th>2986</th>\n",
       "      <td>2987</td>\n",
       "      <td>Bitcoin</td>\n",
       "      <td>BTC</td>\n",
       "      <td>2021-07-02 23:59:59</td>\n",
       "      <td>33939.588699</td>\n",
       "      <td>32770.680780</td>\n",
       "      <td>33549.600177</td>\n",
       "      <td>33897.048590</td>\n",
       "      <td>3.872897e+10</td>\n",
       "      <td>6.354508e+11</td>\n",
       "    </tr>\n",
       "    <tr>\n",
       "      <th>2987</th>\n",
       "      <td>2988</td>\n",
       "      <td>Bitcoin</td>\n",
       "      <td>BTC</td>\n",
       "      <td>2021-07-03 23:59:59</td>\n",
       "      <td>34909.259899</td>\n",
       "      <td>33402.696536</td>\n",
       "      <td>33854.421362</td>\n",
       "      <td>34668.548402</td>\n",
       "      <td>2.438396e+10</td>\n",
       "      <td>6.499397e+11</td>\n",
       "    </tr>\n",
       "    <tr>\n",
       "      <th>2988</th>\n",
       "      <td>2989</td>\n",
       "      <td>Bitcoin</td>\n",
       "      <td>BTC</td>\n",
       "      <td>2021-07-04 23:59:59</td>\n",
       "      <td>35937.567147</td>\n",
       "      <td>34396.477458</td>\n",
       "      <td>34665.564866</td>\n",
       "      <td>35287.779766</td>\n",
       "      <td>2.492431e+10</td>\n",
       "      <td>6.615748e+11</td>\n",
       "    </tr>\n",
       "    <tr>\n",
       "      <th>2989</th>\n",
       "      <td>2990</td>\n",
       "      <td>Bitcoin</td>\n",
       "      <td>BTC</td>\n",
       "      <td>2021-07-05 23:59:59</td>\n",
       "      <td>35284.344430</td>\n",
       "      <td>33213.661034</td>\n",
       "      <td>35284.344430</td>\n",
       "      <td>33746.002456</td>\n",
       "      <td>2.672155e+10</td>\n",
       "      <td>6.326962e+11</td>\n",
       "    </tr>\n",
       "    <tr>\n",
       "      <th>2990</th>\n",
       "      <td>2991</td>\n",
       "      <td>Bitcoin</td>\n",
       "      <td>BTC</td>\n",
       "      <td>2021-07-06 23:59:59</td>\n",
       "      <td>35038.536363</td>\n",
       "      <td>33599.916169</td>\n",
       "      <td>33723.509655</td>\n",
       "      <td>34235.193451</td>\n",
       "      <td>2.650126e+10</td>\n",
       "      <td>6.418992e+11</td>\n",
       "    </tr>\n",
       "  </tbody>\n",
       "</table>\n",
       "<p>2991 rows × 10 columns</p>\n",
       "</div>"
      ],
      "text/plain": [
       "       SNo     Name Symbol                Date          High           Low  \\\n",
       "0        1  Bitcoin    BTC 2013-04-29 23:59:59    147.488007    134.000000   \n",
       "1        2  Bitcoin    BTC 2013-04-30 23:59:59    146.929993    134.050003   \n",
       "2        3  Bitcoin    BTC 2013-05-01 23:59:59    139.889999    107.720001   \n",
       "3        4  Bitcoin    BTC 2013-05-02 23:59:59    125.599998     92.281898   \n",
       "4        5  Bitcoin    BTC 2013-05-03 23:59:59    108.127998     79.099998   \n",
       "...    ...      ...    ...                 ...           ...           ...   \n",
       "2986  2987  Bitcoin    BTC 2021-07-02 23:59:59  33939.588699  32770.680780   \n",
       "2987  2988  Bitcoin    BTC 2021-07-03 23:59:59  34909.259899  33402.696536   \n",
       "2988  2989  Bitcoin    BTC 2021-07-04 23:59:59  35937.567147  34396.477458   \n",
       "2989  2990  Bitcoin    BTC 2021-07-05 23:59:59  35284.344430  33213.661034   \n",
       "2990  2991  Bitcoin    BTC 2021-07-06 23:59:59  35038.536363  33599.916169   \n",
       "\n",
       "              Open         Close        Volume     Marketcap  \n",
       "0       134.444000    144.539993  0.000000e+00  1.603769e+09  \n",
       "1       144.000000    139.000000  0.000000e+00  1.542813e+09  \n",
       "2       139.000000    116.989998  0.000000e+00  1.298955e+09  \n",
       "3       116.379997    105.209999  0.000000e+00  1.168517e+09  \n",
       "4       106.250000     97.750000  0.000000e+00  1.085995e+09  \n",
       "...            ...           ...           ...           ...  \n",
       "2986  33549.600177  33897.048590  3.872897e+10  6.354508e+11  \n",
       "2987  33854.421362  34668.548402  2.438396e+10  6.499397e+11  \n",
       "2988  34665.564866  35287.779766  2.492431e+10  6.615748e+11  \n",
       "2989  35284.344430  33746.002456  2.672155e+10  6.326962e+11  \n",
       "2990  33723.509655  34235.193451  2.650126e+10  6.418992e+11  \n",
       "\n",
       "[2991 rows x 10 columns]"
      ]
     },
     "execution_count": 87,
     "metadata": {},
     "output_type": "execute_result"
    }
   ],
   "source": [
    "df = pd.read_csv(\"./coin_Bitcoin.csv\", parse_dates=['Date'])\n",
    "df.sort_values('Date')"
   ]
  },
  {
   "cell_type": "code",
   "execution_count": 88,
   "id": "008db91c",
   "metadata": {},
   "outputs": [],
   "source": [
    "input_data = df.rename(columns={'Date': 'ds', 'Close': 'y'})[['ds', 'y']]"
   ]
  },
  {
   "cell_type": "code",
   "execution_count": 89,
   "id": "57916aa4",
   "metadata": {},
   "outputs": [
    {
     "data": {
      "image/png": "[encoded data removed]",
      "text/plain": [
       "<Figure size 864x576 with 2 Axes>"
      ]
     },
     "metadata": {
      "needs_background": "light"
     },
     "output_type": "display_data"
    },
    {
     "name": "stderr",
     "output_type": "stream",
     "text": [
      "Epoch[300/300]: 100%|█| 300/300 [00:40<00:00,  7.39it/s, MSELoss=0.00661, MAE=1.75e+3, RMSE=2.83e+3, RegLoss=0, MAE_val\n"
     ]
    }
   ],
   "source": [
    "m = NeuralProphet(seasonality_mode='multiplicative', loss_func='MSE')\n",
    "\n",
    "df_train, df_test = m.split_df(df=input_data, freq=\"D\", valid_p=0.1)\n",
    "\n",
    "metrics = m.fit(input_data, freq='D', validation_df=df_test,\n",
    "                    plot_live_loss=True, epochs=300)"
   ]
  },
  {
   "cell_type": "code",
   "execution_count": 90,
   "id": "f81d85dc",
   "metadata": {},
   "outputs": [],
   "source": [
    "def plot_forecast(model, data, periods, historic_pred=True, highlight_steps_ahead=None):\n",
    "  \n",
    "    \"\"\" plot_forecast function - generates and plots the forecasts for a NeuralProphet model\n",
    "    - model -> a trained NeuralProphet model\n",
    "    - data -> the dataframe used for training\n",
    "    - periods -> the number of periods to forecast\n",
    "    - historic_pred -> a flag indicating whether or not to plot the model's predictions on historic data\n",
    "    - highlight_steps_ahead -> the number of steps ahead of the forecast line to highlight, used for autoregressive models only\"\"\"\n",
    "    \n",
    "    future = model.make_future_dataframe(data, \n",
    "                                         periods=periods, \n",
    "                                         n_historic_predictions=historic_pred)\n",
    "    forecast = model.predict(future)\n",
    "    \n",
    "    if highlight_steps_ahead is not None:\n",
    "        model = model.highlight_nth_step_ahead_of_each_forecast(highlight_steps_ahead)\n",
    "        model.plot_last_forecast(forecast)\n",
    "    else:    \n",
    "        model.plot(forecast)"
   ]
  },
  {
   "cell_type": "code",
   "execution_count": 100,
   "id": "34064876",
   "metadata": {},
   "outputs": [
    {
     "data": {
      "image/png": "[encoded data removed]",
      "text/plain": [
       "<Figure size 720x432 with 1 Axes>"
      ]
     },
     "metadata": {},
     "output_type": "display_data"
    }
   ],
   "source": [
    "plot_forecast(m, df_test, periods=10)"
   ]
  },
  {
   "cell_type": "code",
   "execution_count": 101,
   "id": "32a82866",
   "metadata": {},
   "outputs": [
    {
     "data": {
      "text/html": [
       "<div>\n",
       "<style scoped>\n",
       "    .dataframe tbody tr th:only-of-type {\n",
       "        vertical-align: middle;\n",
       "    }\n",
       "\n",
       "    .dataframe tbody tr th {\n",
       "        vertical-align: top;\n",
       "    }\n",
       "\n",
       "    .dataframe thead th {\n",
       "        text-align: right;\n",
       "    }\n",
       "</style>\n",
       "<table border=\"1\" class=\"dataframe\">\n",
       "  <thead>\n",
       "    <tr style=\"text-align: right;\">\n",
       "      <th></th>\n",
       "      <th>SNo</th>\n",
       "      <th>Name</th>\n",
       "      <th>Symbol</th>\n",
       "      <th>Date</th>\n",
       "      <th>High</th>\n",
       "      <th>Low</th>\n",
       "      <th>Open</th>\n",
       "      <th>Close</th>\n",
       "      <th>Volume</th>\n",
       "      <th>Marketcap</th>\n",
       "    </tr>\n",
       "  </thead>\n",
       "  <tbody>\n",
       "    <tr>\n",
       "      <th>0</th>\n",
       "      <td>1</td>\n",
       "      <td>Ethereum</td>\n",
       "      <td>ETH</td>\n",
       "      <td>2015-08-08 23:59:59</td>\n",
       "      <td>2.798810</td>\n",
       "      <td>0.714725</td>\n",
       "      <td>2.793760</td>\n",
       "      <td>0.753325</td>\n",
       "      <td>6.741880e+05</td>\n",
       "      <td>4.548689e+07</td>\n",
       "    </tr>\n",
       "    <tr>\n",
       "      <th>1</th>\n",
       "      <td>2</td>\n",
       "      <td>Ethereum</td>\n",
       "      <td>ETH</td>\n",
       "      <td>2015-08-09 23:59:59</td>\n",
       "      <td>0.879810</td>\n",
       "      <td>0.629191</td>\n",
       "      <td>0.706136</td>\n",
       "      <td>0.701897</td>\n",
       "      <td>5.321700e+05</td>\n",
       "      <td>4.239957e+07</td>\n",
       "    </tr>\n",
       "    <tr>\n",
       "      <th>2</th>\n",
       "      <td>3</td>\n",
       "      <td>Ethereum</td>\n",
       "      <td>ETH</td>\n",
       "      <td>2015-08-10 23:59:59</td>\n",
       "      <td>0.729854</td>\n",
       "      <td>0.636546</td>\n",
       "      <td>0.713989</td>\n",
       "      <td>0.708448</td>\n",
       "      <td>4.052830e+05</td>\n",
       "      <td>4.281836e+07</td>\n",
       "    </tr>\n",
       "    <tr>\n",
       "      <th>3</th>\n",
       "      <td>4</td>\n",
       "      <td>Ethereum</td>\n",
       "      <td>ETH</td>\n",
       "      <td>2015-08-11 23:59:59</td>\n",
       "      <td>1.131410</td>\n",
       "      <td>0.663235</td>\n",
       "      <td>0.708087</td>\n",
       "      <td>1.067860</td>\n",
       "      <td>1.463100e+06</td>\n",
       "      <td>6.456929e+07</td>\n",
       "    </tr>\n",
       "    <tr>\n",
       "      <th>4</th>\n",
       "      <td>5</td>\n",
       "      <td>Ethereum</td>\n",
       "      <td>ETH</td>\n",
       "      <td>2015-08-12 23:59:59</td>\n",
       "      <td>1.289940</td>\n",
       "      <td>0.883608</td>\n",
       "      <td>1.058750</td>\n",
       "      <td>1.217440</td>\n",
       "      <td>2.150620e+06</td>\n",
       "      <td>7.364501e+07</td>\n",
       "    </tr>\n",
       "    <tr>\n",
       "      <th>...</th>\n",
       "      <td>...</td>\n",
       "      <td>...</td>\n",
       "      <td>...</td>\n",
       "      <td>...</td>\n",
       "      <td>...</td>\n",
       "      <td>...</td>\n",
       "      <td>...</td>\n",
       "      <td>...</td>\n",
       "      <td>...</td>\n",
       "      <td>...</td>\n",
       "    </tr>\n",
       "    <tr>\n",
       "      <th>2155</th>\n",
       "      <td>2156</td>\n",
       "      <td>Ethereum</td>\n",
       "      <td>ETH</td>\n",
       "      <td>2021-07-02 23:59:59</td>\n",
       "      <td>2155.596496</td>\n",
       "      <td>2021.824808</td>\n",
       "      <td>2109.892677</td>\n",
       "      <td>2150.040364</td>\n",
       "      <td>3.179621e+10</td>\n",
       "      <td>2.505527e+11</td>\n",
       "    </tr>\n",
       "    <tr>\n",
       "      <th>2156</th>\n",
       "      <td>2157</td>\n",
       "      <td>Ethereum</td>\n",
       "      <td>ETH</td>\n",
       "      <td>2021-07-03 23:59:59</td>\n",
       "      <td>2237.567155</td>\n",
       "      <td>2117.590013</td>\n",
       "      <td>2150.835025</td>\n",
       "      <td>2226.114282</td>\n",
       "      <td>1.743336e+10</td>\n",
       "      <td>2.594475e+11</td>\n",
       "    </tr>\n",
       "    <tr>\n",
       "      <th>2157</th>\n",
       "      <td>2158</td>\n",
       "      <td>Ethereum</td>\n",
       "      <td>ETH</td>\n",
       "      <td>2021-07-04 23:59:59</td>\n",
       "      <td>2384.286857</td>\n",
       "      <td>2190.837703</td>\n",
       "      <td>2226.550382</td>\n",
       "      <td>2321.724112</td>\n",
       "      <td>1.878711e+10</td>\n",
       "      <td>2.706217e+11</td>\n",
       "    </tr>\n",
       "    <tr>\n",
       "      <th>2158</th>\n",
       "      <td>2159</td>\n",
       "      <td>Ethereum</td>\n",
       "      <td>ETH</td>\n",
       "      <td>2021-07-05 23:59:59</td>\n",
       "      <td>2321.922836</td>\n",
       "      <td>2163.041394</td>\n",
       "      <td>2321.922836</td>\n",
       "      <td>2198.582464</td>\n",
       "      <td>2.010379e+10</td>\n",
       "      <td>2.562978e+11</td>\n",
       "    </tr>\n",
       "    <tr>\n",
       "      <th>2159</th>\n",
       "      <td>2160</td>\n",
       "      <td>Ethereum</td>\n",
       "      <td>ETH</td>\n",
       "      <td>2021-07-06 23:59:59</td>\n",
       "      <td>2346.294874</td>\n",
       "      <td>2197.919385</td>\n",
       "      <td>2197.919385</td>\n",
       "      <td>2324.679449</td>\n",
       "      <td>2.089186e+10</td>\n",
       "      <td>2.710286e+11</td>\n",
       "    </tr>\n",
       "  </tbody>\n",
       "</table>\n",
       "<p>2160 rows × 10 columns</p>\n",
       "</div>"
      ],
      "text/plain": [
       "       SNo      Name Symbol                Date         High          Low  \\\n",
       "0        1  Ethereum    ETH 2015-08-08 23:59:59     2.798810     0.714725   \n",
       "1        2  Ethereum    ETH 2015-08-09 23:59:59     0.879810     0.629191   \n",
       "2        3  Ethereum    ETH 2015-08-10 23:59:59     0.729854     0.636546   \n",
       "3        4  Ethereum    ETH 2015-08-11 23:59:59     1.131410     0.663235   \n",
       "4        5  Ethereum    ETH 2015-08-12 23:59:59     1.289940     0.883608   \n",
       "...    ...       ...    ...                 ...          ...          ...   \n",
       "2155  2156  Ethereum    ETH 2021-07-02 23:59:59  2155.596496  2021.824808   \n",
       "2156  2157  Ethereum    ETH 2021-07-03 23:59:59  2237.567155  2117.590013   \n",
       "2157  2158  Ethereum    ETH 2021-07-04 23:59:59  2384.286857  2190.837703   \n",
       "2158  2159  Ethereum    ETH 2021-07-05 23:59:59  2321.922836  2163.041394   \n",
       "2159  2160  Ethereum    ETH 2021-07-06 23:59:59  2346.294874  2197.919385   \n",
       "\n",
       "             Open        Close        Volume     Marketcap  \n",
       "0        2.793760     0.753325  6.741880e+05  4.548689e+07  \n",
       "1        0.706136     0.701897  5.321700e+05  4.239957e+07  \n",
       "2        0.713989     0.708448  4.052830e+05  4.281836e+07  \n",
       "3        0.708087     1.067860  1.463100e+06  6.456929e+07  \n",
       "4        1.058750     1.217440  2.150620e+06  7.364501e+07  \n",
       "...           ...          ...           ...           ...  \n",
       "2155  2109.892677  2150.040364  3.179621e+10  2.505527e+11  \n",
       "2156  2150.835025  2226.114282  1.743336e+10  2.594475e+11  \n",
       "2157  2226.550382  2321.724112  1.878711e+10  2.706217e+11  \n",
       "2158  2321.922836  2198.582464  2.010379e+10  2.562978e+11  \n",
       "2159  2197.919385  2324.679449  2.089186e+10  2.710286e+11  \n",
       "\n",
       "[2160 rows x 10 columns]"
      ]
     },
     "execution_count": 101,
     "metadata": {},
     "output_type": "execute_result"
    }
   ],
   "source": [
    "df = pd.read_csv(\"./coin_Ethereum.csv\", parse_dates=['Date'])\n",
    "df.sort_values('Date')"
   ]
  },
  {
   "cell_type": "code",
   "execution_count": 102,
   "id": "d1c028c0",
   "metadata": {},
   "outputs": [],
   "source": [
    "input_data = df.rename(columns={'Date': 'ds', 'Close': 'y'})[['ds', 'y']]"
   ]
  },
  {
   "cell_type": "code",
   "execution_count": 103,
   "id": "57916aa4",
   "metadata": {},
   "outputs": [
    {
     "data": {
      "image/png": "[encoded data removed]",
      "text/plain": [
       "<Figure size 864x576 with 2 Axes>"
      ]
     },
     "metadata": {
      "needs_background": "light"
     },
     "output_type": "display_data"
    },
    {
     "name": "stderr",
     "output_type": "stream",
     "text": [
      "Epoch[300/300]: 100%|█| 300/300 [00:31<00:00,  9.44it/s, MSELoss=0.0033, MAE=60.3, RMSE=99.4, RegLoss=0, MAE_val=117, M\n"
     ]
    }
   ],
   "source": [
    "m = NeuralProphet(seasonality_mode='multiplicative', loss_func='MSE')\n",
    "\n",
    "df_train, df_test = m.split_df(df=input_data, freq=\"D\", valid_p=0.2)\n",
    "\n",
    "metrics = m.fit(input_data, freq='D', validation_df=df_test,\n",
    "                    plot_live_loss=True, epochs=300)"
   ]
  },
  {
   "cell_type": "code",
   "execution_count": 104,
   "id": "34064876",
   "metadata": {},
   "outputs": [
    {
     "data": {
      "image/png": "[encoded data removed]",
      "text/plain": [
       "<Figure size 720x432 with 1 Axes>"
      ]
     },
     "metadata": {},
     "output_type": "display_data"
    }
   ],
   "source": [
    "plot_forecast(m, df_test, periods=10)"
   ]
  },
  {
   "cell_type": "code",
   "execution_count": 105,
   "id": "403625e5",
   "metadata": {
    "scrolled": true
   },
   "outputs": [
    {
     "data": {
      "text/html": [
       "<div>\n",
       "<style scoped>\n",
       "    .dataframe tbody tr th:only-of-type {\n",
       "        vertical-align: middle;\n",
       "    }\n",
       "\n",
       "    .dataframe tbody tr th {\n",
       "        vertical-align: top;\n",
       "    }\n",
       "\n",
       "    .dataframe thead th {\n",
       "        text-align: right;\n",
       "    }\n",
       "</style>\n",
       "<table border=\"1\" class=\"dataframe\">\n",
       "  <thead>\n",
       "    <tr style=\"text-align: right;\">\n",
       "      <th></th>\n",
       "      <th>SNo</th>\n",
       "      <th>Name</th>\n",
       "      <th>Symbol</th>\n",
       "      <th>Date</th>\n",
       "      <th>High</th>\n",
       "      <th>Low</th>\n",
       "      <th>Open</th>\n",
       "      <th>Close</th>\n",
       "      <th>Volume</th>\n",
       "      <th>Marketcap</th>\n",
       "    </tr>\n",
       "  </thead>\n",
       "  <tbody>\n",
       "    <tr>\n",
       "      <th>0</th>\n",
       "      <td>1</td>\n",
       "      <td>Cardano</td>\n",
       "      <td>ADA</td>\n",
       "      <td>2017-10-02 23:59:59</td>\n",
       "      <td>0.030088</td>\n",
       "      <td>0.019969</td>\n",
       "      <td>0.024607</td>\n",
       "      <td>0.025932</td>\n",
       "      <td>5.764130e+07</td>\n",
       "      <td>6.288991e+08</td>\n",
       "    </tr>\n",
       "    <tr>\n",
       "      <th>1</th>\n",
       "      <td>2</td>\n",
       "      <td>Cardano</td>\n",
       "      <td>ADA</td>\n",
       "      <td>2017-10-03 23:59:59</td>\n",
       "      <td>0.027425</td>\n",
       "      <td>0.020690</td>\n",
       "      <td>0.025757</td>\n",
       "      <td>0.020816</td>\n",
       "      <td>1.699780e+07</td>\n",
       "      <td>5.396927e+08</td>\n",
       "    </tr>\n",
       "    <tr>\n",
       "      <th>2</th>\n",
       "      <td>3</td>\n",
       "      <td>Cardano</td>\n",
       "      <td>ADA</td>\n",
       "      <td>2017-10-04 23:59:59</td>\n",
       "      <td>0.022806</td>\n",
       "      <td>0.020864</td>\n",
       "      <td>0.020864</td>\n",
       "      <td>0.021931</td>\n",
       "      <td>9.000050e+06</td>\n",
       "      <td>5.686195e+08</td>\n",
       "    </tr>\n",
       "    <tr>\n",
       "      <th>3</th>\n",
       "      <td>4</td>\n",
       "      <td>Cardano</td>\n",
       "      <td>ADA</td>\n",
       "      <td>2017-10-05 23:59:59</td>\n",
       "      <td>0.022154</td>\n",
       "      <td>0.020859</td>\n",
       "      <td>0.021951</td>\n",
       "      <td>0.021489</td>\n",
       "      <td>5.562510e+06</td>\n",
       "      <td>5.571390e+08</td>\n",
       "    </tr>\n",
       "    <tr>\n",
       "      <th>4</th>\n",
       "      <td>5</td>\n",
       "      <td>Cardano</td>\n",
       "      <td>ADA</td>\n",
       "      <td>2017-10-06 23:59:59</td>\n",
       "      <td>0.021542</td>\n",
       "      <td>0.018360</td>\n",
       "      <td>0.021359</td>\n",
       "      <td>0.018539</td>\n",
       "      <td>7.780710e+06</td>\n",
       "      <td>4.806646e+08</td>\n",
       "    </tr>\n",
       "    <tr>\n",
       "      <th>...</th>\n",
       "      <td>...</td>\n",
       "      <td>...</td>\n",
       "      <td>...</td>\n",
       "      <td>...</td>\n",
       "      <td>...</td>\n",
       "      <td>...</td>\n",
       "      <td>...</td>\n",
       "      <td>...</td>\n",
       "      <td>...</td>\n",
       "      <td>...</td>\n",
       "    </tr>\n",
       "    <tr>\n",
       "      <th>1369</th>\n",
       "      <td>1370</td>\n",
       "      <td>Cardano</td>\n",
       "      <td>ADA</td>\n",
       "      <td>2021-07-02 23:59:59</td>\n",
       "      <td>1.394397</td>\n",
       "      <td>1.286607</td>\n",
       "      <td>1.332942</td>\n",
       "      <td>1.394397</td>\n",
       "      <td>2.159410e+09</td>\n",
       "      <td>4.454587e+10</td>\n",
       "    </tr>\n",
       "    <tr>\n",
       "      <th>1370</th>\n",
       "      <td>1371</td>\n",
       "      <td>Cardano</td>\n",
       "      <td>ADA</td>\n",
       "      <td>2021-07-03 23:59:59</td>\n",
       "      <td>1.441714</td>\n",
       "      <td>1.359664</td>\n",
       "      <td>1.394152</td>\n",
       "      <td>1.406836</td>\n",
       "      <td>2.028094e+09</td>\n",
       "      <td>4.494324e+10</td>\n",
       "    </tr>\n",
       "    <tr>\n",
       "      <th>1371</th>\n",
       "      <td>1372</td>\n",
       "      <td>Cardano</td>\n",
       "      <td>ADA</td>\n",
       "      <td>2021-07-04 23:59:59</td>\n",
       "      <td>1.493717</td>\n",
       "      <td>1.382153</td>\n",
       "      <td>1.404008</td>\n",
       "      <td>1.458184</td>\n",
       "      <td>1.806362e+09</td>\n",
       "      <td>4.658364e+10</td>\n",
       "    </tr>\n",
       "    <tr>\n",
       "      <th>1372</th>\n",
       "      <td>1373</td>\n",
       "      <td>Cardano</td>\n",
       "      <td>ADA</td>\n",
       "      <td>2021-07-05 23:59:59</td>\n",
       "      <td>1.461221</td>\n",
       "      <td>1.379284</td>\n",
       "      <td>1.461221</td>\n",
       "      <td>1.404898</td>\n",
       "      <td>1.759461e+09</td>\n",
       "      <td>4.488134e+10</td>\n",
       "    </tr>\n",
       "    <tr>\n",
       "      <th>1373</th>\n",
       "      <td>1374</td>\n",
       "      <td>Cardano</td>\n",
       "      <td>ADA</td>\n",
       "      <td>2021-07-06 23:59:59</td>\n",
       "      <td>1.456887</td>\n",
       "      <td>1.393282</td>\n",
       "      <td>1.404712</td>\n",
       "      <td>1.418053</td>\n",
       "      <td>1.477700e+09</td>\n",
       "      <td>4.530158e+10</td>\n",
       "    </tr>\n",
       "  </tbody>\n",
       "</table>\n",
       "<p>1374 rows × 10 columns</p>\n",
       "</div>"
      ],
      "text/plain": [
       "       SNo     Name Symbol                Date      High       Low      Open  \\\n",
       "0        1  Cardano    ADA 2017-10-02 23:59:59  0.030088  0.019969  0.024607   \n",
       "1        2  Cardano    ADA 2017-10-03 23:59:59  0.027425  0.020690  0.025757   \n",
       "2        3  Cardano    ADA 2017-10-04 23:59:59  0.022806  0.020864  0.020864   \n",
       "3        4  Cardano    ADA 2017-10-05 23:59:59  0.022154  0.020859  0.021951   \n",
       "4        5  Cardano    ADA 2017-10-06 23:59:59  0.021542  0.018360  0.021359   \n",
       "...    ...      ...    ...                 ...       ...       ...       ...   \n",
       "1369  1370  Cardano    ADA 2021-07-02 23:59:59  1.394397  1.286607  1.332942   \n",
       "1370  1371  Cardano    ADA 2021-07-03 23:59:59  1.441714  1.359664  1.394152   \n",
       "1371  1372  Cardano    ADA 2021-07-04 23:59:59  1.493717  1.382153  1.404008   \n",
       "1372  1373  Cardano    ADA 2021-07-05 23:59:59  1.461221  1.379284  1.461221   \n",
       "1373  1374  Cardano    ADA 2021-07-06 23:59:59  1.456887  1.393282  1.404712   \n",
       "\n",
       "         Close        Volume     Marketcap  \n",
       "0     0.025932  5.764130e+07  6.288991e+08  \n",
       "1     0.020816  1.699780e+07  5.396927e+08  \n",
       "2     0.021931  9.000050e+06  5.686195e+08  \n",
       "3     0.021489  5.562510e+06  5.571390e+08  \n",
       "4     0.018539  7.780710e+06  4.806646e+08  \n",
       "...        ...           ...           ...  \n",
       "1369  1.394397  2.159410e+09  4.454587e+10  \n",
       "1370  1.406836  2.028094e+09  4.494324e+10  \n",
       "1371  1.458184  1.806362e+09  4.658364e+10  \n",
       "1372  1.404898  1.759461e+09  4.488134e+10  \n",
       "1373  1.418053  1.477700e+09  4.530158e+10  \n",
       "\n",
       "[1374 rows x 10 columns]"
      ]
     },
     "execution_count": 105,
     "metadata": {},
     "output_type": "execute_result"
    }
   ],
   "source": [
    "df = pd.read_csv(\"./coin_Cardano.csv\", parse_dates=['Date'])\n",
    "df.sort_values('Date')"
   ]
  },
  {
   "cell_type": "code",
   "execution_count": 106,
   "id": "008db91c",
   "metadata": {},
   "outputs": [],
   "source": [
    "input_data = df.rename(columns={'Date': 'ds', 'Close': 'y'})[['ds', 'y']]"
   ]
  },
  {
   "cell_type": "code",
   "execution_count": 107,
   "id": "57916aa4",
   "metadata": {},
   "outputs": [
    {
     "data": {
      "image/png": "[encoded data removed]",
      "text/plain": [
       "<Figure size 864x576 with 2 Axes>"
      ]
     },
     "metadata": {
      "needs_background": "light"
     },
     "output_type": "display_data"
    },
    {
     "name": "stderr",
     "output_type": "stream",
     "text": [
      "Epoch[300/300]: 100%|█| 300/300 [00:21<00:00, 14.18it/s, MSELoss=0.00531, MAE=0.0561, RMSE=0.0909, RegLoss=0, MAE_val=0\n"
     ]
    }
   ],
   "source": [
    "m = NeuralProphet(seasonality_mode='multiplicative', loss_func='MSE')\n",
    "\n",
    "df_train, df_test = m.split_df(df=input_data, freq=\"D\", valid_p=0.2)\n",
    "\n",
    "metrics = m.fit(input_data, freq='D', validation_df=df_test,\n",
    "                    plot_live_loss=True, epochs=300)"
   ]
  },
  {
   "cell_type": "code",
   "execution_count": 108,
   "id": "34064876",
   "metadata": {
    "scrolled": false
   },
   "outputs": [
    {
     "data": {
      "image/png": "[encoded data removed]",
      "text/plain": [
       "<Figure size 720x432 with 1 Axes>"
      ]
     },
     "metadata": {},
     "output_type": "display_data"
    }
   ],
   "source": [
    "plot_forecast(m, df_test, periods=10)"
   ]
  },
  {
   "cell_type": "markdown",
   "metadata": {},
   "source": [
    "### Issues / Improvements\n",
    "1. Dataset is very small\n",
    "2. Experiment with different distributions for PNN\n",
    "3. NeuralProphet is still in development, so documentation is not great\n",
    "4. Cardano data was not very suitable for forecasting"
   ]
  },
  {
   "cell_type": "markdown",
   "metadata": {},
   "source": [
    "###  References\n",
    "   - Dataset - https://www.kaggle.com/sudalairajkumar/cryptocurrencypricehistory​\n",
    "\n",
    "Understanding RNN and LSTM - https://aditi-mittal.medium.com/understanding-rnn-and-lstm-f7cdf6dfc14e ​\n",
    "\n",
    "LSTM Networks - https://towardsdatascience.com/lstm-networks-a-detailed-explanation-8fae6aefc7f9​\n",
    "\n",
    "Behshad Mohebali, Amirhessam Tahmassebi, Anke Meyer-Baese, Amir H. Gandomi,Chapter 14 - Probabilistic neural networks: a brief overview of theory, implementation, and application, Editor(s): Pijush Samui, Dieu Tien Bui, Subrata Chakraborty, Ravinesh C. Deo,Handbook of Probabilistic Models, Butterworth-Heinemann,2020, Pages 347-367, ISBN 9780128165140, https://doi.org/10.1016/B978-0-12-816514-0.00014-X.(https://www.sciencedirect.com/science/article/pii/B978012816514000014X)​\n",
    "\n",
    "Introduction to PNN for beginners - https://analyticsindiamag.com/introduction-to-probabilistic-neural-networks-for-beginners/​\n",
    "\n",
    "Beate Sick and Oliver Duerr, Probabilistic Deep Learning, Manning Publications, November 2020 - https://learning.oreilly.com/library/view/probabilistic-deep-learning/9781617296079/​\n",
    "\t"
   ]
  },
  {
   "cell_type": "markdown",
   "metadata": {},
   "source": [
    "### Credits\n",
    "\n",
    "- If you use and/or adapt your code from existing projects, you must provide links and acknowldge the authors. Keep in mind that all documents in your projects and code will be check against the official plagiarism detection tool used by Penn State ([Turnitin](https://turnitin.psu.edu))\n",
    "\n",
    "> *The baseline model was adapted from Cryptocurrency price prediction using LSTMs | TensorFlow for Hackers by Venelin Valkov.The model gave pretty good results and so it was referenced to build the baseline model."
   ]
  },
  {
   "cell_type": "code",
   "execution_count": null,
   "metadata": {},
   "outputs": [],
   "source": []
  },
  {
   "cell_type": "code",
   "execution_count": null,
   "metadata": {},
   "outputs": [],
   "source": [
    "# End of Project"
   ]
  }
 ],
 "metadata": {
  "kernelspec": {
   "display_name": "Python 3",
   "language": "python",
   "name": "python3"
  },
  "language_info": {
   "codemirror_mode": {
    "name": "ipython",
    "version": 3
   },
   "file_extension": ".py",
   "mimetype": "text/x-python",
   "name": "python",
   "nbconvert_exporter": "python",
   "pygments_lexer": "ipython3",
   "version": "3.8.8"
  },
  "toc": {
   "base_numbering": 1,
   "nav_menu": {},
   "number_sections": true,
   "sideBar": true,
   "skip_h1_title": false,
   "title_cell": "Table of Contents",
   "title_sidebar": "Contents",
   "toc_cell": false,
   "toc_position": {},
   "toc_section_display": true,
   "toc_window_display": false
  },
  "varInspector": {
   "cols": {
    "lenName": 16,
    "lenType": 16,
    "lenVar": 40
   },
   "kernels_config": {
    "python": {
     "delete_cmd_postfix": "",
     "delete_cmd_prefix": "del ",
     "library": "var_list.py",
     "varRefreshCmd": "print(var_dic_list())"
    },
    "r": {
     "delete_cmd_postfix": ") ",
     "delete_cmd_prefix": "rm(",
     "library": "var_list.r",
     "varRefreshCmd": "cat(var_dic_list()) "
    }
   },
   "types_to_exclude": [
    "module",
    "function",
    "builtin_function_or_method",
    "instance",
    "_Feature"
   ],
   "window_display": true
  }
 },
 "nbformat": 4,
 "nbformat_minor": 2
}
